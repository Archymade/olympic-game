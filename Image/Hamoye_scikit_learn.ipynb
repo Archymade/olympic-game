{
  "nbformat": 4,
  "nbformat_minor": 0,
  "metadata": {
    "colab": {
      "name": "Hamoye_scikit_learn.ipynb",
      "provenance": [],
      "collapsed_sections": []
    },
    "kernelspec": {
      "display_name": "Python 3",
      "language": "python",
      "name": "python3"
    },
    "language_info": {
      "codemirror_mode": {
        "name": "ipython",
        "version": 3
      },
      "file_extension": ".py",
      "mimetype": "text/x-python",
      "name": "python",
      "nbconvert_exporter": "python",
      "pygments_lexer": "ipython3",
      "version": "3.7.3"
    }
  },
  "cells": [
    {
      "cell_type": "code",
      "metadata": {
        "colab": {
          "base_uri": "https://localhost:8080/"
        },
        "id": "akyHKpGw_6VF",
        "outputId": "fe77bd2e-76ad-4063-dacd-f6b248591d51"
      },
      "source": [
        "from google.colab import drive\n",
        "drive.mount('/content/drive')"
      ],
      "execution_count": 1,
      "outputs": [
        {
          "output_type": "stream",
          "name": "stdout",
          "text": [
            "Mounted at /content/drive\n"
          ]
        }
      ]
    },
    {
      "cell_type": "code",
      "metadata": {
        "id": "7ydB6Psd8mBE"
      },
      "source": [
        "import pandas as pd\n",
        "import numpy as np\n",
        "import matplotlib.pyplot as plt\n",
        "import seaborn as sns\n",
        "\n",
        "%matplotlib inline"
      ],
      "execution_count": 56,
      "outputs": []
    },
    {
      "cell_type": "code",
      "metadata": {
        "id": "DRJXL-2Agz4n"
      },
      "source": [
        "dictionary = pd.read_csv('/content/drive/MyDrive/ML portfolio/Hamoye/premier presentation/dictionary.csv')\n",
        "summer = pd.read_csv('/content/drive/MyDrive/ML portfolio/Hamoye/premier presentation/summer.csv')\n",
        "winter = pd.read_csv('/content/drive/MyDrive/ML portfolio/Hamoye/premier presentation/winter.csv')"
      ],
      "execution_count": 57,
      "outputs": []
    },
    {
      "cell_type": "code",
      "metadata": {
        "colab": {
          "base_uri": "https://localhost:8080/",
          "height": 204
        },
        "id": "ZL_EHeUchI4C",
        "outputId": "38150516-655c-4977-a9b9-c7fb4c13f139"
      },
      "source": [
        "\n",
        "dictionary.head()"
      ],
      "execution_count": 59,
      "outputs": [
        {
          "output_type": "execute_result",
          "data": {
            "text/html": [
              "<div>\n",
              "<style scoped>\n",
              "    .dataframe tbody tr th:only-of-type {\n",
              "        vertical-align: middle;\n",
              "    }\n",
              "\n",
              "    .dataframe tbody tr th {\n",
              "        vertical-align: top;\n",
              "    }\n",
              "\n",
              "    .dataframe thead th {\n",
              "        text-align: right;\n",
              "    }\n",
              "</style>\n",
              "<table border=\"1\" class=\"dataframe\">\n",
              "  <thead>\n",
              "    <tr style=\"text-align: right;\">\n",
              "      <th></th>\n",
              "      <th>Country</th>\n",
              "      <th>Code</th>\n",
              "      <th>Population</th>\n",
              "      <th>GDP per Capita</th>\n",
              "    </tr>\n",
              "  </thead>\n",
              "  <tbody>\n",
              "    <tr>\n",
              "      <th>0</th>\n",
              "      <td>Afghanistan</td>\n",
              "      <td>AFG</td>\n",
              "      <td>32526562.0</td>\n",
              "      <td>594.323081</td>\n",
              "    </tr>\n",
              "    <tr>\n",
              "      <th>1</th>\n",
              "      <td>Albania</td>\n",
              "      <td>ALB</td>\n",
              "      <td>2889167.0</td>\n",
              "      <td>3945.217582</td>\n",
              "    </tr>\n",
              "    <tr>\n",
              "      <th>2</th>\n",
              "      <td>Algeria</td>\n",
              "      <td>ALG</td>\n",
              "      <td>39666519.0</td>\n",
              "      <td>4206.031232</td>\n",
              "    </tr>\n",
              "    <tr>\n",
              "      <th>3</th>\n",
              "      <td>American Samoa*</td>\n",
              "      <td>ASA</td>\n",
              "      <td>55538.0</td>\n",
              "      <td>NaN</td>\n",
              "    </tr>\n",
              "    <tr>\n",
              "      <th>4</th>\n",
              "      <td>Andorra</td>\n",
              "      <td>AND</td>\n",
              "      <td>70473.0</td>\n",
              "      <td>NaN</td>\n",
              "    </tr>\n",
              "  </tbody>\n",
              "</table>\n",
              "</div>"
            ],
            "text/plain": [
              "           Country Code  Population  GDP per Capita\n",
              "0      Afghanistan  AFG  32526562.0      594.323081\n",
              "1          Albania  ALB   2889167.0     3945.217582\n",
              "2          Algeria  ALG  39666519.0     4206.031232\n",
              "3  American Samoa*  ASA     55538.0             NaN\n",
              "4          Andorra  AND     70473.0             NaN"
            ]
          },
          "metadata": {},
          "execution_count": 59
        }
      ]
    },
    {
      "cell_type": "code",
      "metadata": {
        "colab": {
          "base_uri": "https://localhost:8080/",
          "height": 204
        },
        "id": "opiJ7m5SurVJ",
        "outputId": "c781191c-53a3-4fa0-8a62-444c667106e1"
      },
      "source": [
        "winter.head()"
      ],
      "execution_count": 5,
      "outputs": [
        {
          "output_type": "execute_result",
          "data": {
            "text/html": [
              "<div>\n",
              "<style scoped>\n",
              "    .dataframe tbody tr th:only-of-type {\n",
              "        vertical-align: middle;\n",
              "    }\n",
              "\n",
              "    .dataframe tbody tr th {\n",
              "        vertical-align: top;\n",
              "    }\n",
              "\n",
              "    .dataframe thead th {\n",
              "        text-align: right;\n",
              "    }\n",
              "</style>\n",
              "<table border=\"1\" class=\"dataframe\">\n",
              "  <thead>\n",
              "    <tr style=\"text-align: right;\">\n",
              "      <th></th>\n",
              "      <th>Year</th>\n",
              "      <th>City</th>\n",
              "      <th>Sport</th>\n",
              "      <th>Discipline</th>\n",
              "      <th>Athlete</th>\n",
              "      <th>Country</th>\n",
              "      <th>Gender</th>\n",
              "      <th>Event</th>\n",
              "      <th>Medal</th>\n",
              "    </tr>\n",
              "  </thead>\n",
              "  <tbody>\n",
              "    <tr>\n",
              "      <th>0</th>\n",
              "      <td>1924</td>\n",
              "      <td>Chamonix</td>\n",
              "      <td>Biathlon</td>\n",
              "      <td>Biathlon</td>\n",
              "      <td>BERTHET, G.</td>\n",
              "      <td>FRA</td>\n",
              "      <td>Men</td>\n",
              "      <td>Military Patrol</td>\n",
              "      <td>Bronze</td>\n",
              "    </tr>\n",
              "    <tr>\n",
              "      <th>1</th>\n",
              "      <td>1924</td>\n",
              "      <td>Chamonix</td>\n",
              "      <td>Biathlon</td>\n",
              "      <td>Biathlon</td>\n",
              "      <td>MANDRILLON, C.</td>\n",
              "      <td>FRA</td>\n",
              "      <td>Men</td>\n",
              "      <td>Military Patrol</td>\n",
              "      <td>Bronze</td>\n",
              "    </tr>\n",
              "    <tr>\n",
              "      <th>2</th>\n",
              "      <td>1924</td>\n",
              "      <td>Chamonix</td>\n",
              "      <td>Biathlon</td>\n",
              "      <td>Biathlon</td>\n",
              "      <td>MANDRILLON, Maurice</td>\n",
              "      <td>FRA</td>\n",
              "      <td>Men</td>\n",
              "      <td>Military Patrol</td>\n",
              "      <td>Bronze</td>\n",
              "    </tr>\n",
              "    <tr>\n",
              "      <th>3</th>\n",
              "      <td>1924</td>\n",
              "      <td>Chamonix</td>\n",
              "      <td>Biathlon</td>\n",
              "      <td>Biathlon</td>\n",
              "      <td>VANDELLE, André</td>\n",
              "      <td>FRA</td>\n",
              "      <td>Men</td>\n",
              "      <td>Military Patrol</td>\n",
              "      <td>Bronze</td>\n",
              "    </tr>\n",
              "    <tr>\n",
              "      <th>4</th>\n",
              "      <td>1924</td>\n",
              "      <td>Chamonix</td>\n",
              "      <td>Biathlon</td>\n",
              "      <td>Biathlon</td>\n",
              "      <td>AUFDENBLATTEN, Adolf</td>\n",
              "      <td>SUI</td>\n",
              "      <td>Men</td>\n",
              "      <td>Military Patrol</td>\n",
              "      <td>Gold</td>\n",
              "    </tr>\n",
              "  </tbody>\n",
              "</table>\n",
              "</div>"
            ],
            "text/plain": [
              "   Year      City     Sport Discipline  ... Country Gender            Event   Medal\n",
              "0  1924  Chamonix  Biathlon   Biathlon  ...     FRA    Men  Military Patrol  Bronze\n",
              "1  1924  Chamonix  Biathlon   Biathlon  ...     FRA    Men  Military Patrol  Bronze\n",
              "2  1924  Chamonix  Biathlon   Biathlon  ...     FRA    Men  Military Patrol  Bronze\n",
              "3  1924  Chamonix  Biathlon   Biathlon  ...     FRA    Men  Military Patrol  Bronze\n",
              "4  1924  Chamonix  Biathlon   Biathlon  ...     SUI    Men  Military Patrol    Gold\n",
              "\n",
              "[5 rows x 9 columns]"
            ]
          },
          "metadata": {},
          "execution_count": 5
        }
      ]
    },
    {
      "cell_type": "markdown",
      "metadata": {
        "id": "vsj3lSn3uU15"
      },
      "source": [
        "# Data cleaning\n",
        "## Summer Data\n"
      ]
    },
    {
      "cell_type": "code",
      "metadata": {
        "colab": {
          "base_uri": "https://localhost:8080/"
        },
        "id": "RGdBNvVRuU16",
        "outputId": "073718ab-52e4-47dc-c440-c7d5c14c0d64"
      },
      "source": [
        "# Checking for duplicate values in Summer data\n",
        "\n",
        "summer['Discipline'] = summer['Discipline'].str.lower()\n",
        "discipline = summer['Discipline'].unique()\n",
        "discipline.sort()\n",
        "discipline"
      ],
      "execution_count": 6,
      "outputs": [
        {
          "output_type": "execute_result",
          "data": {
            "text/plain": [
              "array(['archery', 'artistic g.', 'athletics', 'badminton', 'baseball',\n",
              "       'basketball', 'basque pelota', 'beach volley.', 'beach volleyball',\n",
              "       'bmx', 'boxing', 'canoe / kayak f', 'canoe / kayak s',\n",
              "       'canoe slalom', 'canoe sprint', 'cricket', 'croquet',\n",
              "       'cycling bmx', 'cycling road', 'cycling track', 'diving',\n",
              "       'dressage', 'eventing', 'fencing', 'figure skating', 'football',\n",
              "       'golf', 'gymnastics artistic', 'gymnastics rhythmic', 'handball',\n",
              "       'hockey', 'ice hockey', 'jeu de paume', 'judo', 'jumping',\n",
              "       'lacrosse', 'marathon swimming', 'modern pentath.',\n",
              "       'modern pentathlon', 'mountain bike', 'polo', 'rackets',\n",
              "       'rhythmic g.', 'roque', 'rowing', 'rugby', 'sailing', 'shooting',\n",
              "       'softball', 'swimming', 'synchronized s.', 'synchronized swimming',\n",
              "       'table tennis', 'taekwondo', 'tennis', 'trampoline', 'triathlon',\n",
              "       'tug of war', 'vaulting', 'volleyball', 'water motorspor',\n",
              "       'water polo', 'weightlifting', 'wrestling free.',\n",
              "       'wrestling freestyle', 'wrestling gre-r'], dtype=object)"
            ]
          },
          "metadata": {},
          "execution_count": 6
        }
      ]
    },
    {
      "cell_type": "code",
      "metadata": {
        "id": "0in3jLAPuU18"
      },
      "source": [
        "#Replacing duplicates in Discipline Column\n",
        "summer = summer.replace('beach volley.', 'beach volleyball')\n",
        "summer = summer.replace('bmx', 'cycling bmx')\n",
        "summer = summer.replace('artistic g.', 'gymnastics artistic')\n",
        "summer = summer.replace('rhythmic g.', 'gymnastics rhythmic')\n",
        "summer = summer.replace('modern pentath.', 'modern pentathlon')\n",
        "summer = summer.replace('synchronized s.', 'synchronized swimming')\n",
        "summer = summer.replace('wrestling free.', 'wrestling freestyle')\n",
        "summer = summer.replace('wrestling gre-r', 'wrestling greco roman')"
      ],
      "execution_count": 7,
      "outputs": []
    },
    {
      "cell_type": "code",
      "metadata": {
        "id": "1iEUv0ZDuU19"
      },
      "source": [
        "#Removing ',' in the Athlete Column\n",
        "summer[\"Athlete\"]=summer[\"Athlete\"].str.split(', ').str[::-1].str.join(' ')\n",
        "summer[\"Athlete\"]=summer[\"Athlete\"].str.title()"
      ],
      "execution_count": 8,
      "outputs": []
    },
    {
      "cell_type": "markdown",
      "metadata": {
        "id": "umnMDQWDuU19"
      },
      "source": [
        "# Exploratory Data Analysis"
      ]
    },
    {
      "cell_type": "code",
      "metadata": {
        "colab": {
          "base_uri": "https://localhost:8080/"
        },
        "id": "kM7b6a0XuU19",
        "outputId": "4428205d-8523-401a-ec32-d3d46cfb5a09"
      },
      "source": [
        "print('There are {} Discipline during summer (1896-2012)'.format(summer['Discipline'].nunique()))"
      ],
      "execution_count": 9,
      "outputs": [
        {
          "output_type": "stream",
          "name": "stdout",
          "text": [
            "There are 59 Discipline during summer (1896-2012)\n"
          ]
        }
      ]
    },
    {
      "cell_type": "markdown",
      "metadata": {
        "id": "ydpCmx99bVfn"
      },
      "source": [
        "### The 1896 Summer Olympics, officially known as the Games of the Olympiad, was an international multi-sport event which was celebrated in Athens, Greece, from 6 to 15 April 1896. It was the first Olympic Games held in the Modern era. About 100,000 people attended for the opening of the games.\n",
        "### 1916 Olympics – cancelled due to World War I\n",
        "### 1940 and 1944 Olympics – cancelled due to World War II"
      ]
    },
    {
      "cell_type": "code",
      "metadata": {
        "colab": {
          "base_uri": "https://localhost:8080/"
        },
        "id": "WXF77QQSuU1-",
        "outputId": "430f5771-132a-4919-e1dc-1d3a2125badd"
      },
      "source": [
        "\n",
        "summer['Year'].unique() "
      ],
      "execution_count": 10,
      "outputs": [
        {
          "output_type": "execute_result",
          "data": {
            "text/plain": [
              "array([1896, 1900, 1904, 1908, 1912, 1920, 1924, 1928, 1932, 1936, 1948,\n",
              "       1952, 1956, 1960, 1964, 1968, 1972, 1976, 1980, 1984, 1988, 1992,\n",
              "       1996, 2000, 2004, 2008, 2012])"
            ]
          },
          "metadata": {},
          "execution_count": 10
        }
      ]
    },
    {
      "cell_type": "code",
      "metadata": {
        "colab": {
          "base_uri": "https://localhost:8080/"
        },
        "id": "jP_0dbR4uU1-",
        "outputId": "0333c17b-a368-4d95-d97f-2395e5848205"
      },
      "source": [
        "summer.info()"
      ],
      "execution_count": 11,
      "outputs": [
        {
          "output_type": "stream",
          "name": "stdout",
          "text": [
            "<class 'pandas.core.frame.DataFrame'>\n",
            "RangeIndex: 31165 entries, 0 to 31164\n",
            "Data columns (total 9 columns):\n",
            " #   Column      Non-Null Count  Dtype \n",
            "---  ------      --------------  ----- \n",
            " 0   Year        31165 non-null  int64 \n",
            " 1   City        31165 non-null  object\n",
            " 2   Sport       31165 non-null  object\n",
            " 3   Discipline  31165 non-null  object\n",
            " 4   Athlete     31165 non-null  object\n",
            " 5   Country     31161 non-null  object\n",
            " 6   Gender      31165 non-null  object\n",
            " 7   Event       31165 non-null  object\n",
            " 8   Medal       31165 non-null  object\n",
            "dtypes: int64(1), object(8)\n",
            "memory usage: 2.1+ MB\n"
          ]
        }
      ]
    },
    {
      "cell_type": "code",
      "metadata": {
        "colab": {
          "base_uri": "https://localhost:8080/",
          "height": 173
        },
        "id": "W_h0zpshuU1_",
        "outputId": "31e10344-6d28-4865-a900-10e94489b8e8"
      },
      "source": [
        "# 147 Countries, 22 Cities participated in summer Olympic game (1896-2012)\n",
        "# 2 Gender, 43 Sport, 59 Discipline, 666 Event, 3 medals (GOLD, SILVER, BRONZE) and 22759 unique Athlete\n",
        "summer.describe(include=['O'])"
      ],
      "execution_count": 12,
      "outputs": [
        {
          "output_type": "execute_result",
          "data": {
            "text/html": [
              "<div>\n",
              "<style scoped>\n",
              "    .dataframe tbody tr th:only-of-type {\n",
              "        vertical-align: middle;\n",
              "    }\n",
              "\n",
              "    .dataframe tbody tr th {\n",
              "        vertical-align: top;\n",
              "    }\n",
              "\n",
              "    .dataframe thead th {\n",
              "        text-align: right;\n",
              "    }\n",
              "</style>\n",
              "<table border=\"1\" class=\"dataframe\">\n",
              "  <thead>\n",
              "    <tr style=\"text-align: right;\">\n",
              "      <th></th>\n",
              "      <th>City</th>\n",
              "      <th>Sport</th>\n",
              "      <th>Discipline</th>\n",
              "      <th>Athlete</th>\n",
              "      <th>Country</th>\n",
              "      <th>Gender</th>\n",
              "      <th>Event</th>\n",
              "      <th>Medal</th>\n",
              "    </tr>\n",
              "  </thead>\n",
              "  <tbody>\n",
              "    <tr>\n",
              "      <th>count</th>\n",
              "      <td>31165</td>\n",
              "      <td>31165</td>\n",
              "      <td>31165</td>\n",
              "      <td>31165</td>\n",
              "      <td>31161</td>\n",
              "      <td>31165</td>\n",
              "      <td>31165</td>\n",
              "      <td>31165</td>\n",
              "    </tr>\n",
              "    <tr>\n",
              "      <th>unique</th>\n",
              "      <td>22</td>\n",
              "      <td>43</td>\n",
              "      <td>59</td>\n",
              "      <td>22759</td>\n",
              "      <td>147</td>\n",
              "      <td>2</td>\n",
              "      <td>666</td>\n",
              "      <td>3</td>\n",
              "    </tr>\n",
              "    <tr>\n",
              "      <th>top</th>\n",
              "      <td>London</td>\n",
              "      <td>Aquatics</td>\n",
              "      <td>athletics</td>\n",
              "      <td>Michael Phelps</td>\n",
              "      <td>USA</td>\n",
              "      <td>Men</td>\n",
              "      <td>Football</td>\n",
              "      <td>Gold</td>\n",
              "    </tr>\n",
              "    <tr>\n",
              "      <th>freq</th>\n",
              "      <td>3567</td>\n",
              "      <td>4170</td>\n",
              "      <td>3638</td>\n",
              "      <td>22</td>\n",
              "      <td>4585</td>\n",
              "      <td>22746</td>\n",
              "      <td>1497</td>\n",
              "      <td>10486</td>\n",
              "    </tr>\n",
              "  </tbody>\n",
              "</table>\n",
              "</div>"
            ],
            "text/plain": [
              "          City     Sport Discipline  ... Gender     Event  Medal\n",
              "count    31165     31165      31165  ...  31165     31165  31165\n",
              "unique      22        43         59  ...      2       666      3\n",
              "top     London  Aquatics  athletics  ...    Men  Football   Gold\n",
              "freq      3567      4170       3638  ...  22746      1497  10486\n",
              "\n",
              "[4 rows x 8 columns]"
            ]
          },
          "metadata": {},
          "execution_count": 12
        }
      ]
    },
    {
      "cell_type": "code",
      "metadata": {
        "colab": {
          "base_uri": "https://localhost:8080/",
          "height": 294
        },
        "id": "LIh1AS5BuU1_",
        "outputId": "8965fe13-362a-453f-8f95-ab0e7b6ac073"
      },
      "source": [
        "gender_counts =summer[\"Gender\"].value_counts().reset_index(name= \"Counts\")[:10]\n",
        "\n",
        "#To get the percentage\n",
        "gender_counts['Percentage %'] = round(gender_counts.Counts / gender_counts.Counts.sum() * 100, 2)\n",
        "\n",
        "\n",
        "gender_percentage = gender_counts[\"Percentage %\"].to_list()\n",
        "plt.title('Gender Distribution', fontsize=30, loc='Right')\n",
        "plt.pie(gender_percentage, colors=['#009047','#E23651'], labels= [\"Men\", \"Women\"], radius=1.2, autopct= \"%0.1f%%\", pctdistance = 0.77,\n",
        "        textprops = {\"size\" : 17, \"color\" : \"#000000\"}, explode= [0.00, 0.00])\n",
        "\n",
        "centre_circle = plt.Circle((0,0), 0.8, fc = \"w\")\n",
        "fig = plt.gcf()\n",
        "fig.gca().add_artist(centre_circle)"
      ],
      "execution_count": 13,
      "outputs": [
        {
          "output_type": "execute_result",
          "data": {
            "text/plain": [
              "<matplotlib.patches.Circle at 0x7f764d3a9b90>"
            ]
          },
          "metadata": {},
          "execution_count": 13
        },
        {
          "output_type": "display_data",
          "data": {
            "image/png": "[encoded data removed]",
            "text/plain": [
              "<Figure size 432x288 with 1 Axes>"
            ]
          },
          "metadata": {}
        }
      ]
    },
    {
      "cell_type": "code",
      "metadata": {
        "id": "MfMC5OybuU2A"
      },
      "source": [
        ""
      ],
      "execution_count": 13,
      "outputs": []
    },
    {
      "cell_type": "code",
      "metadata": {
        "colab": {
          "base_uri": "https://localhost:8080/",
          "height": 359
        },
        "id": "MMjptplWuU2A",
        "outputId": "227aaadc-3d9a-4583-85c0-556dd58965a4"
      },
      "source": [
        "# TOp 10 men athlete with the highest medal\n",
        "athlete_medal = summer.groupby(['Athlete','Country','Discipline','Sport'])['Medal'].count().reset_index().sort_values(\n",
        "    by=\"Medal\",ascending=False)[:10]\n",
        "athlete_medal"
      ],
      "execution_count": 14,
      "outputs": [
        {
          "output_type": "execute_result",
          "data": {
            "text/html": [
              "<div>\n",
              "<style scoped>\n",
              "    .dataframe tbody tr th:only-of-type {\n",
              "        vertical-align: middle;\n",
              "    }\n",
              "\n",
              "    .dataframe tbody tr th {\n",
              "        vertical-align: top;\n",
              "    }\n",
              "\n",
              "    .dataframe thead th {\n",
              "        text-align: right;\n",
              "    }\n",
              "</style>\n",
              "<table border=\"1\" class=\"dataframe\">\n",
              "  <thead>\n",
              "    <tr style=\"text-align: right;\">\n",
              "      <th></th>\n",
              "      <th>Athlete</th>\n",
              "      <th>Country</th>\n",
              "      <th>Discipline</th>\n",
              "      <th>Sport</th>\n",
              "      <th>Medal</th>\n",
              "    </tr>\n",
              "  </thead>\n",
              "  <tbody>\n",
              "    <tr>\n",
              "      <th>15103</th>\n",
              "      <td>Michael Phelps</td>\n",
              "      <td>USA</td>\n",
              "      <td>swimming</td>\n",
              "      <td>Aquatics</td>\n",
              "      <td>22</td>\n",
              "    </tr>\n",
              "    <tr>\n",
              "      <th>12871</th>\n",
              "      <td>Larisa Latynina</td>\n",
              "      <td>URS</td>\n",
              "      <td>gymnastics artistic</td>\n",
              "      <td>Gymnastics</td>\n",
              "      <td>18</td>\n",
              "    </tr>\n",
              "    <tr>\n",
              "      <th>16111</th>\n",
              "      <td>Nikolay Andrianov</td>\n",
              "      <td>URS</td>\n",
              "      <td>gymnastics artistic</td>\n",
              "      <td>Gymnastics</td>\n",
              "      <td>15</td>\n",
              "    </tr>\n",
              "    <tr>\n",
              "      <th>5114</th>\n",
              "      <td>Edoardo Mangiarotti</td>\n",
              "      <td>ITA</td>\n",
              "      <td>fencing</td>\n",
              "      <td>Fencing</td>\n",
              "      <td>13</td>\n",
              "    </tr>\n",
              "    <tr>\n",
              "      <th>20238</th>\n",
              "      <td>Takashi Ono</td>\n",
              "      <td>JPN</td>\n",
              "      <td>gymnastics artistic</td>\n",
              "      <td>Gymnastics</td>\n",
              "      <td>13</td>\n",
              "    </tr>\n",
              "    <tr>\n",
              "      <th>2724</th>\n",
              "      <td>Boris Shakhlin</td>\n",
              "      <td>URS</td>\n",
              "      <td>gymnastics artistic</td>\n",
              "      <td>Gymnastics</td>\n",
              "      <td>13</td>\n",
              "    </tr>\n",
              "    <tr>\n",
              "      <th>15796</th>\n",
              "      <td>Natalie Coughlin</td>\n",
              "      <td>USA</td>\n",
              "      <td>swimming</td>\n",
              "      <td>Aquatics</td>\n",
              "      <td>12</td>\n",
              "    </tr>\n",
              "    <tr>\n",
              "      <th>10550</th>\n",
              "      <td>Jenny Thompson</td>\n",
              "      <td>USA</td>\n",
              "      <td>swimming</td>\n",
              "      <td>Aquatics</td>\n",
              "      <td>12</td>\n",
              "    </tr>\n",
              "    <tr>\n",
              "      <th>783</th>\n",
              "      <td>Alexei Nemov</td>\n",
              "      <td>RUS</td>\n",
              "      <td>gymnastics artistic</td>\n",
              "      <td>Gymnastics</td>\n",
              "      <td>12</td>\n",
              "    </tr>\n",
              "    <tr>\n",
              "      <th>16713</th>\n",
              "      <td>Paavo Nurmi</td>\n",
              "      <td>FIN</td>\n",
              "      <td>athletics</td>\n",
              "      <td>Athletics</td>\n",
              "      <td>12</td>\n",
              "    </tr>\n",
              "  </tbody>\n",
              "</table>\n",
              "</div>"
            ],
            "text/plain": [
              "                   Athlete Country           Discipline       Sport  Medal\n",
              "15103       Michael Phelps     USA             swimming    Aquatics     22\n",
              "12871      Larisa Latynina     URS  gymnastics artistic  Gymnastics     18\n",
              "16111    Nikolay Andrianov     URS  gymnastics artistic  Gymnastics     15\n",
              "5114   Edoardo Mangiarotti     ITA              fencing     Fencing     13\n",
              "20238          Takashi Ono     JPN  gymnastics artistic  Gymnastics     13\n",
              "2724        Boris Shakhlin     URS  gymnastics artistic  Gymnastics     13\n",
              "15796     Natalie Coughlin     USA             swimming    Aquatics     12\n",
              "10550       Jenny Thompson     USA             swimming    Aquatics     12\n",
              "783           Alexei Nemov     RUS  gymnastics artistic  Gymnastics     12\n",
              "16713          Paavo Nurmi     FIN            athletics   Athletics     12"
            ]
          },
          "metadata": {},
          "execution_count": 14
        }
      ]
    },
    {
      "cell_type": "code",
      "metadata": {
        "colab": {
          "base_uri": "https://localhost:8080/",
          "height": 422
        },
        "id": "fgyNTQHluU2A",
        "outputId": "bb015c4e-d084-40a3-d855-8ec26718c968"
      },
      "source": [
        "#Top 10 Athletes with the Most medal\n",
        "plt.figure(figsize=(10,6))\n",
        "sns.barplot(x = athlete_medal[\"Medal\"], y = athlete_medal['Athlete'])\n",
        "\n",
        "plt.xlabel(\"Medal_count\")\n",
        "plt.ylabel(\"Athlete\")\n",
        "plt.title(\"Top 10 Athlete with most Olympic medals\")"
      ],
      "execution_count": 15,
      "outputs": [
        {
          "output_type": "execute_result",
          "data": {
            "text/plain": [
              "Text(0.5, 1.0, 'Top 10 Athlete with most Olympic medals')"
            ]
          },
          "metadata": {},
          "execution_count": 15
        },
        {
          "output_type": "display_data",
          "data": {
            "image/png": "[encoded data removed]",
            "text/plain": [
              "<Figure size 720x432 with 1 Axes>"
            ]
          },
          "metadata": {
            "needs_background": "light"
          }
        }
      ]
    },
    {
      "cell_type": "code",
      "metadata": {
        "id": "oDNHSYICuU2B"
      },
      "source": [
        ""
      ],
      "execution_count": 15,
      "outputs": []
    },
    {
      "cell_type": "code",
      "metadata": {
        "colab": {
          "base_uri": "https://localhost:8080/",
          "height": 421
        },
        "id": "oR5jIP5huU2B",
        "outputId": "34e0dc50-a58d-47e9-c8d2-aa7150b61e5e"
      },
      "source": [
        "# Highest Medal (Gold) achieved\n",
        "medals_athlete = summer.groupby(['Athlete','Medal'])[\"Sport\"].count().reset_index().sort_values(by='Sport',ascending=False)\n",
        "medals_athlete = medals_athlete.pivot('Athlete','Medal','Sport').fillna(0)\n",
        "gold_top_athletes=medals_athlete.sort_values(by=\"Gold\",ascending=False)[:11]\n",
        "gold_top_athletes"
      ],
      "execution_count": 16,
      "outputs": [
        {
          "output_type": "execute_result",
          "data": {
            "text/html": [
              "<div>\n",
              "<style scoped>\n",
              "    .dataframe tbody tr th:only-of-type {\n",
              "        vertical-align: middle;\n",
              "    }\n",
              "\n",
              "    .dataframe tbody tr th {\n",
              "        vertical-align: top;\n",
              "    }\n",
              "\n",
              "    .dataframe thead th {\n",
              "        text-align: right;\n",
              "    }\n",
              "</style>\n",
              "<table border=\"1\" class=\"dataframe\">\n",
              "  <thead>\n",
              "    <tr style=\"text-align: right;\">\n",
              "      <th>Medal</th>\n",
              "      <th>Bronze</th>\n",
              "      <th>Gold</th>\n",
              "      <th>Silver</th>\n",
              "    </tr>\n",
              "    <tr>\n",
              "      <th>Athlete</th>\n",
              "      <th></th>\n",
              "      <th></th>\n",
              "      <th></th>\n",
              "    </tr>\n",
              "  </thead>\n",
              "  <tbody>\n",
              "    <tr>\n",
              "      <th>Michael Phelps</th>\n",
              "      <td>2.0</td>\n",
              "      <td>18.0</td>\n",
              "      <td>2.0</td>\n",
              "    </tr>\n",
              "    <tr>\n",
              "      <th>Larisa Latynina</th>\n",
              "      <td>4.0</td>\n",
              "      <td>9.0</td>\n",
              "      <td>5.0</td>\n",
              "    </tr>\n",
              "    <tr>\n",
              "      <th>Mark Spitz</th>\n",
              "      <td>1.0</td>\n",
              "      <td>9.0</td>\n",
              "      <td>1.0</td>\n",
              "    </tr>\n",
              "    <tr>\n",
              "      <th>Paavo Nurmi</th>\n",
              "      <td>0.0</td>\n",
              "      <td>9.0</td>\n",
              "      <td>3.0</td>\n",
              "    </tr>\n",
              "    <tr>\n",
              "      <th>Carl Lewis</th>\n",
              "      <td>0.0</td>\n",
              "      <td>9.0</td>\n",
              "      <td>1.0</td>\n",
              "    </tr>\n",
              "    <tr>\n",
              "      <th>Sawao Kato</th>\n",
              "      <td>1.0</td>\n",
              "      <td>8.0</td>\n",
              "      <td>3.0</td>\n",
              "    </tr>\n",
              "    <tr>\n",
              "      <th>Jenny Thompson</th>\n",
              "      <td>1.0</td>\n",
              "      <td>8.0</td>\n",
              "      <td>3.0</td>\n",
              "    </tr>\n",
              "    <tr>\n",
              "      <th>Birgit Fischer</th>\n",
              "      <td>0.0</td>\n",
              "      <td>8.0</td>\n",
              "      <td>4.0</td>\n",
              "    </tr>\n",
              "    <tr>\n",
              "      <th>Ray Ewry</th>\n",
              "      <td>0.0</td>\n",
              "      <td>8.0</td>\n",
              "      <td>0.0</td>\n",
              "    </tr>\n",
              "    <tr>\n",
              "      <th>Matthew Biondi</th>\n",
              "      <td>1.0</td>\n",
              "      <td>8.0</td>\n",
              "      <td>2.0</td>\n",
              "    </tr>\n",
              "    <tr>\n",
              "      <th>Viktor Ivanovich Chukarin</th>\n",
              "      <td>1.0</td>\n",
              "      <td>7.0</td>\n",
              "      <td>3.0</td>\n",
              "    </tr>\n",
              "  </tbody>\n",
              "</table>\n",
              "</div>"
            ],
            "text/plain": [
              "Medal                      Bronze  Gold  Silver\n",
              "Athlete                                        \n",
              "Michael Phelps                2.0  18.0     2.0\n",
              "Larisa Latynina               4.0   9.0     5.0\n",
              "Mark Spitz                    1.0   9.0     1.0\n",
              "Paavo Nurmi                   0.0   9.0     3.0\n",
              "Carl Lewis                    0.0   9.0     1.0\n",
              "Sawao Kato                    1.0   8.0     3.0\n",
              "Jenny Thompson                1.0   8.0     3.0\n",
              "Birgit Fischer                0.0   8.0     4.0\n",
              "Ray Ewry                      0.0   8.0     0.0\n",
              "Matthew Biondi                1.0   8.0     2.0\n",
              "Viktor Ivanovich Chukarin     1.0   7.0     3.0"
            ]
          },
          "metadata": {},
          "execution_count": 16
        }
      ]
    },
    {
      "cell_type": "code",
      "metadata": {
        "colab": {
          "base_uri": "https://localhost:8080/",
          "height": 421
        },
        "id": "3TcqInWKuU2B",
        "outputId": "b94c949f-4d0c-46db-9120-ea9bda2445c5"
      },
      "source": [
        "# Highest Medal (Silver) achieved\n",
        "silver_top_athletes=medals_athlete.sort_values(by=\"Silver\",ascending=False)[:11]\n",
        "silver_top_athletes"
      ],
      "execution_count": 17,
      "outputs": [
        {
          "output_type": "execute_result",
          "data": {
            "text/html": [
              "<div>\n",
              "<style scoped>\n",
              "    .dataframe tbody tr th:only-of-type {\n",
              "        vertical-align: middle;\n",
              "    }\n",
              "\n",
              "    .dataframe tbody tr th {\n",
              "        vertical-align: top;\n",
              "    }\n",
              "\n",
              "    .dataframe thead th {\n",
              "        text-align: right;\n",
              "    }\n",
              "</style>\n",
              "<table border=\"1\" class=\"dataframe\">\n",
              "  <thead>\n",
              "    <tr style=\"text-align: right;\">\n",
              "      <th>Medal</th>\n",
              "      <th>Bronze</th>\n",
              "      <th>Gold</th>\n",
              "      <th>Silver</th>\n",
              "    </tr>\n",
              "    <tr>\n",
              "      <th>Athlete</th>\n",
              "      <th></th>\n",
              "      <th></th>\n",
              "      <th></th>\n",
              "    </tr>\n",
              "  </thead>\n",
              "  <tbody>\n",
              "    <tr>\n",
              "      <th>Shirley Farber Babashoff</th>\n",
              "      <td>0.0</td>\n",
              "      <td>2.0</td>\n",
              "      <td>6.0</td>\n",
              "    </tr>\n",
              "    <tr>\n",
              "      <th>Aleksandr Dityatin</th>\n",
              "      <td>1.0</td>\n",
              "      <td>3.0</td>\n",
              "      <td>6.0</td>\n",
              "    </tr>\n",
              "    <tr>\n",
              "      <th>Mikhail Voronin</th>\n",
              "      <td>1.0</td>\n",
              "      <td>2.0</td>\n",
              "      <td>6.0</td>\n",
              "    </tr>\n",
              "    <tr>\n",
              "      <th>Mariya Gorokhovskaya</th>\n",
              "      <td>0.0</td>\n",
              "      <td>2.0</td>\n",
              "      <td>5.0</td>\n",
              "    </tr>\n",
              "    <tr>\n",
              "      <th>Viktor Lisitsky</th>\n",
              "      <td>0.0</td>\n",
              "      <td>0.0</td>\n",
              "      <td>5.0</td>\n",
              "    </tr>\n",
              "    <tr>\n",
              "      <th>Leisel Jones</th>\n",
              "      <td>1.0</td>\n",
              "      <td>3.0</td>\n",
              "      <td>5.0</td>\n",
              "    </tr>\n",
              "    <tr>\n",
              "      <th>Yuri Titov</th>\n",
              "      <td>3.0</td>\n",
              "      <td>1.0</td>\n",
              "      <td>5.0</td>\n",
              "    </tr>\n",
              "    <tr>\n",
              "      <th>Gustavo Marzi</th>\n",
              "      <td>0.0</td>\n",
              "      <td>2.0</td>\n",
              "      <td>5.0</td>\n",
              "    </tr>\n",
              "    <tr>\n",
              "      <th>Katalin Kovacs</th>\n",
              "      <td>0.0</td>\n",
              "      <td>3.0</td>\n",
              "      <td>5.0</td>\n",
              "    </tr>\n",
              "    <tr>\n",
              "      <th>Nikolay Andrianov</th>\n",
              "      <td>3.0</td>\n",
              "      <td>7.0</td>\n",
              "      <td>5.0</td>\n",
              "    </tr>\n",
              "    <tr>\n",
              "      <th>Alexander Popov</th>\n",
              "      <td>0.0</td>\n",
              "      <td>4.0</td>\n",
              "      <td>5.0</td>\n",
              "    </tr>\n",
              "  </tbody>\n",
              "</table>\n",
              "</div>"
            ],
            "text/plain": [
              "Medal                     Bronze  Gold  Silver\n",
              "Athlete                                       \n",
              "Shirley Farber Babashoff     0.0   2.0     6.0\n",
              "Aleksandr Dityatin           1.0   3.0     6.0\n",
              "Mikhail Voronin              1.0   2.0     6.0\n",
              "Mariya Gorokhovskaya         0.0   2.0     5.0\n",
              "Viktor Lisitsky              0.0   0.0     5.0\n",
              "Leisel Jones                 1.0   3.0     5.0\n",
              "Yuri Titov                   3.0   1.0     5.0\n",
              "Gustavo Marzi                0.0   2.0     5.0\n",
              "Katalin Kovacs               0.0   3.0     5.0\n",
              "Nikolay Andrianov            3.0   7.0     5.0\n",
              "Alexander Popov              0.0   4.0     5.0"
            ]
          },
          "metadata": {},
          "execution_count": 17
        }
      ]
    },
    {
      "cell_type": "code",
      "metadata": {
        "colab": {
          "base_uri": "https://localhost:8080/",
          "height": 421
        },
        "id": "zgemPGdbuU2C",
        "outputId": "03e02f52-cab1-456a-e1ac-8496dac6dc1b"
      },
      "source": [
        "# Highest Medal (Bronze) achieved\n",
        "bronze_top_athletes=medals_athlete.sort_values(by=\"Bronze\",ascending=False)[:11]\n",
        "bronze_top_athletes"
      ],
      "execution_count": 18,
      "outputs": [
        {
          "output_type": "execute_result",
          "data": {
            "text/html": [
              "<div>\n",
              "<style scoped>\n",
              "    .dataframe tbody tr th:only-of-type {\n",
              "        vertical-align: middle;\n",
              "    }\n",
              "\n",
              "    .dataframe tbody tr th {\n",
              "        vertical-align: top;\n",
              "    }\n",
              "\n",
              "    .dataframe thead th {\n",
              "        text-align: right;\n",
              "    }\n",
              "</style>\n",
              "<table border=\"1\" class=\"dataframe\">\n",
              "  <thead>\n",
              "    <tr style=\"text-align: right;\">\n",
              "      <th>Medal</th>\n",
              "      <th>Bronze</th>\n",
              "      <th>Gold</th>\n",
              "      <th>Silver</th>\n",
              "    </tr>\n",
              "    <tr>\n",
              "      <th>Athlete</th>\n",
              "      <th></th>\n",
              "      <th></th>\n",
              "      <th></th>\n",
              "    </tr>\n",
              "  </thead>\n",
              "  <tbody>\n",
              "    <tr>\n",
              "      <th>Heikki Savolainen</th>\n",
              "      <td>6.0</td>\n",
              "      <td>2.0</td>\n",
              "      <td>1.0</td>\n",
              "    </tr>\n",
              "    <tr>\n",
              "      <th>Alexei Nemov</th>\n",
              "      <td>6.0</td>\n",
              "      <td>4.0</td>\n",
              "      <td>2.0</td>\n",
              "    </tr>\n",
              "    <tr>\n",
              "      <th>Merlene Ottey-Page</th>\n",
              "      <td>6.0</td>\n",
              "      <td>0.0</td>\n",
              "      <td>3.0</td>\n",
              "    </tr>\n",
              "    <tr>\n",
              "      <th>Franziska Van Almsick</th>\n",
              "      <td>6.0</td>\n",
              "      <td>0.0</td>\n",
              "      <td>4.0</td>\n",
              "    </tr>\n",
              "    <tr>\n",
              "      <th>Antje Buschschulte</th>\n",
              "      <td>5.0</td>\n",
              "      <td>0.0</td>\n",
              "      <td>0.0</td>\n",
              "    </tr>\n",
              "    <tr>\n",
              "      <th>Philip Edwards</th>\n",
              "      <td>5.0</td>\n",
              "      <td>0.0</td>\n",
              "      <td>0.0</td>\n",
              "    </tr>\n",
              "    <tr>\n",
              "      <th>Daniel Revenu</th>\n",
              "      <td>5.0</td>\n",
              "      <td>1.0</td>\n",
              "      <td>0.0</td>\n",
              "    </tr>\n",
              "    <tr>\n",
              "      <th>Natalie Coughlin</th>\n",
              "      <td>5.0</td>\n",
              "      <td>3.0</td>\n",
              "      <td>4.0</td>\n",
              "    </tr>\n",
              "    <tr>\n",
              "      <th>Adrianus Egbertus Willem De Jong</th>\n",
              "      <td>5.0</td>\n",
              "      <td>0.0</td>\n",
              "      <td>0.0</td>\n",
              "    </tr>\n",
              "    <tr>\n",
              "      <th>Takashi Ono</th>\n",
              "      <td>4.0</td>\n",
              "      <td>5.0</td>\n",
              "      <td>4.0</td>\n",
              "    </tr>\n",
              "    <tr>\n",
              "      <th>Vitaly Scherbo</th>\n",
              "      <td>4.0</td>\n",
              "      <td>6.0</td>\n",
              "      <td>0.0</td>\n",
              "    </tr>\n",
              "  </tbody>\n",
              "</table>\n",
              "</div>"
            ],
            "text/plain": [
              "Medal                             Bronze  Gold  Silver\n",
              "Athlete                                               \n",
              "Heikki Savolainen                    6.0   2.0     1.0\n",
              "Alexei Nemov                         6.0   4.0     2.0\n",
              "Merlene Ottey-Page                   6.0   0.0     3.0\n",
              "Franziska Van Almsick                6.0   0.0     4.0\n",
              "Antje Buschschulte                   5.0   0.0     0.0\n",
              "Philip Edwards                       5.0   0.0     0.0\n",
              "Daniel Revenu                        5.0   1.0     0.0\n",
              "Natalie Coughlin                     5.0   3.0     4.0\n",
              "Adrianus Egbertus Willem De Jong     5.0   0.0     0.0\n",
              "Takashi Ono                          4.0   5.0     4.0\n",
              "Vitaly Scherbo                       4.0   6.0     0.0"
            ]
          },
          "metadata": {},
          "execution_count": 18
        }
      ]
    },
    {
      "cell_type": "code",
      "metadata": {
        "colab": {
          "base_uri": "https://localhost:8080/",
          "height": 729
        },
        "id": "NAY4PklduU2C",
        "outputId": "eba77195-b117-4194-aa76-b4b95ddd06db"
      },
      "source": [
        "# Female and male with the \n",
        "fig,ax=plt.subplots(1,2,figsize=(20,10))\n",
        "men=summer[summer[\"Gender\"]==\"Men\"]\n",
        "men=men.groupby([\"Athlete\",\"Medal\"])[\"Country\"].count().reset_index().sort_values(by=\"Country\",ascending=False)\n",
        "men=men[men[\"Athlete\"].isin(summer[\"Athlete\"].value_counts().index[:20])]\n",
        "men=men.pivot(\"Athlete\",\"Medal\",\"Country\")\n",
        "men.plot.barh(width=0.8,color=['#CD7F32','#FFDF00','#D3D3D3'],ax=ax[0])\n",
        "ax[0].set_title('Best Male Athletes')\n",
        "ax[0].set_ylabel('Athlete')\n",
        "plt.tight_layout()\n",
        "\n",
        "women=summer[summer[\"Gender\"]==\"Women\"]\n",
        "women=women.groupby([\"Athlete\",\"Medal\"])[\"Country\"].count().reset_index().sort_values(by=\"Country\",ascending=False)\n",
        "women=women[women[\"Athlete\"].isin(summer[\"Athlete\"].value_counts().index[:45])]\n",
        "women=women.pivot(\"Athlete\",\"Medal\",\"Country\")\n",
        "women.plot.barh(width=0.8,color=['#CD7F32','#FFDF00','#D3D3D3'],ax=ax[1])\n",
        "ax[1].set_title(\"Best Female Athletes\")\n",
        "ax[1].set_ylabel(\"\")\n",
        "plt.tight_layout()"
      ],
      "execution_count": 19,
      "outputs": [
        {
          "output_type": "display_data",
          "data": {
            "image/png": "[encoded data removed]",
            "text/plain": [
              "<Figure size 1440x720 with 2 Axes>"
            ]
          },
          "metadata": {
            "needs_background": "light"
          }
        }
      ]
    },
    {
      "cell_type": "code",
      "metadata": {
        "colab": {
          "base_uri": "https://localhost:8080/",
          "height": 359
        },
        "id": "NSZfgHtFuU2C",
        "outputId": "d785c7ae-9ac4-43f5-f004-f3e22f5ad08a"
      },
      "source": [
        "# top 10 female with highest medal\n",
        "female_athlete_medal = summer[summer['Gender'] == 'Women'].groupby(\n",
        "    ['Athlete','Country','Discipline','Sport'])['Medal'].count().reset_index().sort_values(\n",
        "    by=\"Medal\",ascending=False)[:10]\n",
        "female_athlete_medal"
      ],
      "execution_count": 20,
      "outputs": [
        {
          "output_type": "execute_result",
          "data": {
            "text/html": [
              "<div>\n",
              "<style scoped>\n",
              "    .dataframe tbody tr th:only-of-type {\n",
              "        vertical-align: middle;\n",
              "    }\n",
              "\n",
              "    .dataframe tbody tr th {\n",
              "        vertical-align: top;\n",
              "    }\n",
              "\n",
              "    .dataframe thead th {\n",
              "        text-align: right;\n",
              "    }\n",
              "</style>\n",
              "<table border=\"1\" class=\"dataframe\">\n",
              "  <thead>\n",
              "    <tr style=\"text-align: right;\">\n",
              "      <th></th>\n",
              "      <th>Athlete</th>\n",
              "      <th>Country</th>\n",
              "      <th>Discipline</th>\n",
              "      <th>Sport</th>\n",
              "      <th>Medal</th>\n",
              "    </tr>\n",
              "  </thead>\n",
              "  <tbody>\n",
              "    <tr>\n",
              "      <th>3008</th>\n",
              "      <td>Larisa Latynina</td>\n",
              "      <td>URS</td>\n",
              "      <td>gymnastics artistic</td>\n",
              "      <td>Gymnastics</td>\n",
              "      <td>18</td>\n",
              "    </tr>\n",
              "    <tr>\n",
              "      <th>1078</th>\n",
              "      <td>Dara Torres</td>\n",
              "      <td>USA</td>\n",
              "      <td>swimming</td>\n",
              "      <td>Aquatics</td>\n",
              "      <td>12</td>\n",
              "    </tr>\n",
              "    <tr>\n",
              "      <th>4123</th>\n",
              "      <td>Natalie Coughlin</td>\n",
              "      <td>USA</td>\n",
              "      <td>swimming</td>\n",
              "      <td>Aquatics</td>\n",
              "      <td>12</td>\n",
              "    </tr>\n",
              "    <tr>\n",
              "      <th>2430</th>\n",
              "      <td>Jenny Thompson</td>\n",
              "      <td>USA</td>\n",
              "      <td>swimming</td>\n",
              "      <td>Aquatics</td>\n",
              "      <td>12</td>\n",
              "    </tr>\n",
              "    <tr>\n",
              "      <th>5484</th>\n",
              "      <td>Vera Caslavska</td>\n",
              "      <td>TCH</td>\n",
              "      <td>gymnastics artistic</td>\n",
              "      <td>Gymnastics</td>\n",
              "      <td>11</td>\n",
              "    </tr>\n",
              "    <tr>\n",
              "      <th>4506</th>\n",
              "      <td>Polina Astakhova</td>\n",
              "      <td>URS</td>\n",
              "      <td>gymnastics artistic</td>\n",
              "      <td>Gymnastics</td>\n",
              "      <td>10</td>\n",
              "    </tr>\n",
              "    <tr>\n",
              "      <th>1664</th>\n",
              "      <td>Franziska Van Almsick</td>\n",
              "      <td>GER</td>\n",
              "      <td>swimming</td>\n",
              "      <td>Aquatics</td>\n",
              "      <td>10</td>\n",
              "    </tr>\n",
              "    <tr>\n",
              "      <th>29</th>\n",
              "      <td>Agnes Keleti</td>\n",
              "      <td>HUN</td>\n",
              "      <td>gymnastics artistic</td>\n",
              "      <td>Gymnastics</td>\n",
              "      <td>10</td>\n",
              "    </tr>\n",
              "    <tr>\n",
              "      <th>3830</th>\n",
              "      <td>Merlene Ottey-Page</td>\n",
              "      <td>JAM</td>\n",
              "      <td>athletics</td>\n",
              "      <td>Athletics</td>\n",
              "      <td>9</td>\n",
              "    </tr>\n",
              "    <tr>\n",
              "      <th>311</th>\n",
              "      <td>Anky Van Grunsven</td>\n",
              "      <td>NED</td>\n",
              "      <td>dressage</td>\n",
              "      <td>Equestrian</td>\n",
              "      <td>9</td>\n",
              "    </tr>\n",
              "  </tbody>\n",
              "</table>\n",
              "</div>"
            ],
            "text/plain": [
              "                    Athlete Country           Discipline       Sport  Medal\n",
              "3008        Larisa Latynina     URS  gymnastics artistic  Gymnastics     18\n",
              "1078            Dara Torres     USA             swimming    Aquatics     12\n",
              "4123       Natalie Coughlin     USA             swimming    Aquatics     12\n",
              "2430         Jenny Thompson     USA             swimming    Aquatics     12\n",
              "5484         Vera Caslavska     TCH  gymnastics artistic  Gymnastics     11\n",
              "4506       Polina Astakhova     URS  gymnastics artistic  Gymnastics     10\n",
              "1664  Franziska Van Almsick     GER             swimming    Aquatics     10\n",
              "29             Agnes Keleti     HUN  gymnastics artistic  Gymnastics     10\n",
              "3830     Merlene Ottey-Page     JAM            athletics   Athletics      9\n",
              "311       Anky Van Grunsven     NED             dressage  Equestrian      9"
            ]
          },
          "metadata": {},
          "execution_count": 20
        }
      ]
    },
    {
      "cell_type": "code",
      "metadata": {
        "colab": {
          "base_uri": "https://localhost:8080/",
          "height": 421
        },
        "id": "mKfe-MzfuU2D",
        "outputId": "24ad288b-f037-453e-ad11-5a9d01f90436"
      },
      "source": [
        "# Highest Medal (Gold) achieved by Female\n",
        "female_gold_medals = summer[summer['Gender'] == 'Women'].groupby(['Athlete','Medal'])[\"Sport\"].count().reset_index().sort_values(by='Sport',ascending=False)\n",
        "female_gold_medals = female_gold_medals.pivot('Athlete','Medal','Sport').fillna(0)\n",
        "female_g_ath=female_gold_medals.sort_values(by=\"Gold\",ascending=False)[:11]\n",
        "female_g_ath"
      ],
      "execution_count": 21,
      "outputs": [
        {
          "output_type": "execute_result",
          "data": {
            "text/html": [
              "<div>\n",
              "<style scoped>\n",
              "    .dataframe tbody tr th:only-of-type {\n",
              "        vertical-align: middle;\n",
              "    }\n",
              "\n",
              "    .dataframe tbody tr th {\n",
              "        vertical-align: top;\n",
              "    }\n",
              "\n",
              "    .dataframe thead th {\n",
              "        text-align: right;\n",
              "    }\n",
              "</style>\n",
              "<table border=\"1\" class=\"dataframe\">\n",
              "  <thead>\n",
              "    <tr style=\"text-align: right;\">\n",
              "      <th>Medal</th>\n",
              "      <th>Bronze</th>\n",
              "      <th>Gold</th>\n",
              "      <th>Silver</th>\n",
              "    </tr>\n",
              "    <tr>\n",
              "      <th>Athlete</th>\n",
              "      <th></th>\n",
              "      <th></th>\n",
              "      <th></th>\n",
              "    </tr>\n",
              "  </thead>\n",
              "  <tbody>\n",
              "    <tr>\n",
              "      <th>Larisa Latynina</th>\n",
              "      <td>4.0</td>\n",
              "      <td>9.0</td>\n",
              "      <td>5.0</td>\n",
              "    </tr>\n",
              "    <tr>\n",
              "      <th>Birgit Fischer</th>\n",
              "      <td>0.0</td>\n",
              "      <td>8.0</td>\n",
              "      <td>4.0</td>\n",
              "    </tr>\n",
              "    <tr>\n",
              "      <th>Jenny Thompson</th>\n",
              "      <td>1.0</td>\n",
              "      <td>8.0</td>\n",
              "      <td>3.0</td>\n",
              "    </tr>\n",
              "    <tr>\n",
              "      <th>Vera Caslavska</th>\n",
              "      <td>0.0</td>\n",
              "      <td>7.0</td>\n",
              "      <td>4.0</td>\n",
              "    </tr>\n",
              "    <tr>\n",
              "      <th>Amy Van Dyken</th>\n",
              "      <td>0.0</td>\n",
              "      <td>6.0</td>\n",
              "      <td>0.0</td>\n",
              "    </tr>\n",
              "    <tr>\n",
              "      <th>Valentina Vezzali</th>\n",
              "      <td>2.0</td>\n",
              "      <td>6.0</td>\n",
              "      <td>1.0</td>\n",
              "    </tr>\n",
              "    <tr>\n",
              "      <th>Kristin Otto</th>\n",
              "      <td>0.0</td>\n",
              "      <td>6.0</td>\n",
              "      <td>0.0</td>\n",
              "    </tr>\n",
              "    <tr>\n",
              "      <th>Nadia Comaneci</th>\n",
              "      <td>1.0</td>\n",
              "      <td>5.0</td>\n",
              "      <td>3.0</td>\n",
              "    </tr>\n",
              "    <tr>\n",
              "      <th>Elisabeta Lipa</th>\n",
              "      <td>1.0</td>\n",
              "      <td>5.0</td>\n",
              "      <td>2.0</td>\n",
              "    </tr>\n",
              "    <tr>\n",
              "      <th>Agnes Keleti</th>\n",
              "      <td>2.0</td>\n",
              "      <td>5.0</td>\n",
              "      <td>3.0</td>\n",
              "    </tr>\n",
              "    <tr>\n",
              "      <th>Polina Astakhova</th>\n",
              "      <td>3.0</td>\n",
              "      <td>5.0</td>\n",
              "      <td>2.0</td>\n",
              "    </tr>\n",
              "  </tbody>\n",
              "</table>\n",
              "</div>"
            ],
            "text/plain": [
              "Medal              Bronze  Gold  Silver\n",
              "Athlete                                \n",
              "Larisa Latynina       4.0   9.0     5.0\n",
              "Birgit Fischer        0.0   8.0     4.0\n",
              "Jenny Thompson        1.0   8.0     3.0\n",
              "Vera Caslavska        0.0   7.0     4.0\n",
              "Amy Van Dyken         0.0   6.0     0.0\n",
              "Valentina Vezzali     2.0   6.0     1.0\n",
              "Kristin Otto          0.0   6.0     0.0\n",
              "Nadia Comaneci        1.0   5.0     3.0\n",
              "Elisabeta Lipa        1.0   5.0     2.0\n",
              "Agnes Keleti          2.0   5.0     3.0\n",
              "Polina Astakhova      3.0   5.0     2.0"
            ]
          },
          "metadata": {},
          "execution_count": 21
        }
      ]
    },
    {
      "cell_type": "code",
      "metadata": {
        "colab": {
          "base_uri": "https://localhost:8080/",
          "height": 421
        },
        "id": "pWTIdOBIuU2D",
        "outputId": "0fd8338b-9269-4d42-c986-be3931c80c63"
      },
      "source": [
        "# Highest Medal (bronze) achieved by Female\n",
        "female_bronze_medals = summer[summer['Gender'] == 'Women'].groupby(['Athlete','Medal'])[\"Sport\"].count().reset_index().sort_values(by='Sport',ascending=False)\n",
        "female_bronze_medals = female_bronze_medals.pivot('Athlete','Medal','Sport').fillna(0)\n",
        "female_b_ath=female_bronze_medals.sort_values(by=\"Bronze\",ascending=False)[:11]\n",
        "female_b_ath"
      ],
      "execution_count": 22,
      "outputs": [
        {
          "output_type": "execute_result",
          "data": {
            "text/html": [
              "<div>\n",
              "<style scoped>\n",
              "    .dataframe tbody tr th:only-of-type {\n",
              "        vertical-align: middle;\n",
              "    }\n",
              "\n",
              "    .dataframe tbody tr th {\n",
              "        vertical-align: top;\n",
              "    }\n",
              "\n",
              "    .dataframe thead th {\n",
              "        text-align: right;\n",
              "    }\n",
              "</style>\n",
              "<table border=\"1\" class=\"dataframe\">\n",
              "  <thead>\n",
              "    <tr style=\"text-align: right;\">\n",
              "      <th>Medal</th>\n",
              "      <th>Bronze</th>\n",
              "      <th>Gold</th>\n",
              "      <th>Silver</th>\n",
              "    </tr>\n",
              "    <tr>\n",
              "      <th>Athlete</th>\n",
              "      <th></th>\n",
              "      <th></th>\n",
              "      <th></th>\n",
              "    </tr>\n",
              "  </thead>\n",
              "  <tbody>\n",
              "    <tr>\n",
              "      <th>Franziska Van Almsick</th>\n",
              "      <td>6.0</td>\n",
              "      <td>0.0</td>\n",
              "      <td>4.0</td>\n",
              "    </tr>\n",
              "    <tr>\n",
              "      <th>Merlene Ottey-Page</th>\n",
              "      <td>6.0</td>\n",
              "      <td>0.0</td>\n",
              "      <td>3.0</td>\n",
              "    </tr>\n",
              "    <tr>\n",
              "      <th>Natalie Coughlin</th>\n",
              "      <td>5.0</td>\n",
              "      <td>3.0</td>\n",
              "      <td>4.0</td>\n",
              "    </tr>\n",
              "    <tr>\n",
              "      <th>Antje Buschschulte</th>\n",
              "      <td>5.0</td>\n",
              "      <td>0.0</td>\n",
              "      <td>0.0</td>\n",
              "    </tr>\n",
              "    <tr>\n",
              "      <th>Sofiya Muratova</th>\n",
              "      <td>4.0</td>\n",
              "      <td>2.0</td>\n",
              "      <td>2.0</td>\n",
              "    </tr>\n",
              "    <tr>\n",
              "      <th>Margit Korondi</th>\n",
              "      <td>4.0</td>\n",
              "      <td>2.0</td>\n",
              "      <td>2.0</td>\n",
              "    </tr>\n",
              "    <tr>\n",
              "      <th>Larisa Latynina</th>\n",
              "      <td>4.0</td>\n",
              "      <td>9.0</td>\n",
              "      <td>5.0</td>\n",
              "    </tr>\n",
              "    <tr>\n",
              "      <th>Dara Torres</th>\n",
              "      <td>4.0</td>\n",
              "      <td>4.0</td>\n",
              "      <td>4.0</td>\n",
              "    </tr>\n",
              "    <tr>\n",
              "      <th>Tanya Harding</th>\n",
              "      <td>3.0</td>\n",
              "      <td>0.0</td>\n",
              "      <td>1.0</td>\n",
              "    </tr>\n",
              "    <tr>\n",
              "      <th>Heidemarie Reineck</th>\n",
              "      <td>3.0</td>\n",
              "      <td>0.0</td>\n",
              "      <td>0.0</td>\n",
              "    </tr>\n",
              "    <tr>\n",
              "      <th>Elena Leusteanu-Popescu-Teodorescu</th>\n",
              "      <td>3.0</td>\n",
              "      <td>0.0</td>\n",
              "      <td>0.0</td>\n",
              "    </tr>\n",
              "  </tbody>\n",
              "</table>\n",
              "</div>"
            ],
            "text/plain": [
              "Medal                               Bronze  Gold  Silver\n",
              "Athlete                                                 \n",
              "Franziska Van Almsick                  6.0   0.0     4.0\n",
              "Merlene Ottey-Page                     6.0   0.0     3.0\n",
              "Natalie Coughlin                       5.0   3.0     4.0\n",
              "Antje Buschschulte                     5.0   0.0     0.0\n",
              "Sofiya Muratova                        4.0   2.0     2.0\n",
              "Margit Korondi                         4.0   2.0     2.0\n",
              "Larisa Latynina                        4.0   9.0     5.0\n",
              "Dara Torres                            4.0   4.0     4.0\n",
              "Tanya Harding                          3.0   0.0     1.0\n",
              "Heidemarie Reineck                     3.0   0.0     0.0\n",
              "Elena Leusteanu-Popescu-Teodorescu     3.0   0.0     0.0"
            ]
          },
          "metadata": {},
          "execution_count": 22
        }
      ]
    },
    {
      "cell_type": "code",
      "metadata": {
        "colab": {
          "base_uri": "https://localhost:8080/",
          "height": 421
        },
        "id": "nBJrMUjiuU2D",
        "outputId": "858733ce-5730-4fc1-cccd-d6d74146d4b8"
      },
      "source": [
        "# Highest Medal (silver) achieved by Female\n",
        "female_silver_medals = summer[summer['Gender'] == 'Women'].groupby(['Athlete','Medal'])[\"Sport\"].count().reset_index().sort_values(by='Sport',ascending=False)\n",
        "female_silver_medals = female_silver_medals.pivot('Athlete','Medal','Sport').fillna(0)\n",
        "female_s_ath=female_silver_medals.sort_values(by=\"Silver\",ascending=False)[:11]\n",
        "female_s_ath"
      ],
      "execution_count": 23,
      "outputs": [
        {
          "output_type": "execute_result",
          "data": {
            "text/html": [
              "<div>\n",
              "<style scoped>\n",
              "    .dataframe tbody tr th:only-of-type {\n",
              "        vertical-align: middle;\n",
              "    }\n",
              "\n",
              "    .dataframe tbody tr th {\n",
              "        vertical-align: top;\n",
              "    }\n",
              "\n",
              "    .dataframe thead th {\n",
              "        text-align: right;\n",
              "    }\n",
              "</style>\n",
              "<table border=\"1\" class=\"dataframe\">\n",
              "  <thead>\n",
              "    <tr style=\"text-align: right;\">\n",
              "      <th>Medal</th>\n",
              "      <th>Bronze</th>\n",
              "      <th>Gold</th>\n",
              "      <th>Silver</th>\n",
              "    </tr>\n",
              "    <tr>\n",
              "      <th>Athlete</th>\n",
              "      <th></th>\n",
              "      <th></th>\n",
              "      <th></th>\n",
              "    </tr>\n",
              "  </thead>\n",
              "  <tbody>\n",
              "    <tr>\n",
              "      <th>Shirley Farber Babashoff</th>\n",
              "      <td>0.0</td>\n",
              "      <td>2.0</td>\n",
              "      <td>6.0</td>\n",
              "    </tr>\n",
              "    <tr>\n",
              "      <th>Dagmar Hase</th>\n",
              "      <td>1.0</td>\n",
              "      <td>1.0</td>\n",
              "      <td>5.0</td>\n",
              "    </tr>\n",
              "    <tr>\n",
              "      <th>Mariya Gorokhovskaya</th>\n",
              "      <td>0.0</td>\n",
              "      <td>2.0</td>\n",
              "      <td>5.0</td>\n",
              "    </tr>\n",
              "    <tr>\n",
              "      <th>Katalin Kovacs</th>\n",
              "      <td>0.0</td>\n",
              "      <td>3.0</td>\n",
              "      <td>5.0</td>\n",
              "    </tr>\n",
              "    <tr>\n",
              "      <th>Leisel Jones</th>\n",
              "      <td>1.0</td>\n",
              "      <td>3.0</td>\n",
              "      <td>5.0</td>\n",
              "    </tr>\n",
              "    <tr>\n",
              "      <th>Anky Van Grunsven</th>\n",
              "      <td>1.0</td>\n",
              "      <td>3.0</td>\n",
              "      <td>5.0</td>\n",
              "    </tr>\n",
              "    <tr>\n",
              "      <th>Larisa Latynina</th>\n",
              "      <td>4.0</td>\n",
              "      <td>9.0</td>\n",
              "      <td>5.0</td>\n",
              "    </tr>\n",
              "    <tr>\n",
              "      <th>Susan O'Neill</th>\n",
              "      <td>2.0</td>\n",
              "      <td>2.0</td>\n",
              "      <td>4.0</td>\n",
              "    </tr>\n",
              "    <tr>\n",
              "      <th>Natalie Coughlin</th>\n",
              "      <td>5.0</td>\n",
              "      <td>3.0</td>\n",
              "      <td>4.0</td>\n",
              "    </tr>\n",
              "    <tr>\n",
              "      <th>Dawn Fraser</th>\n",
              "      <td>0.0</td>\n",
              "      <td>4.0</td>\n",
              "      <td>4.0</td>\n",
              "    </tr>\n",
              "    <tr>\n",
              "      <th>Dara Torres</th>\n",
              "      <td>4.0</td>\n",
              "      <td>4.0</td>\n",
              "      <td>4.0</td>\n",
              "    </tr>\n",
              "  </tbody>\n",
              "</table>\n",
              "</div>"
            ],
            "text/plain": [
              "Medal                     Bronze  Gold  Silver\n",
              "Athlete                                       \n",
              "Shirley Farber Babashoff     0.0   2.0     6.0\n",
              "Dagmar Hase                  1.0   1.0     5.0\n",
              "Mariya Gorokhovskaya         0.0   2.0     5.0\n",
              "Katalin Kovacs               0.0   3.0     5.0\n",
              "Leisel Jones                 1.0   3.0     5.0\n",
              "Anky Van Grunsven            1.0   3.0     5.0\n",
              "Larisa Latynina              4.0   9.0     5.0\n",
              "Susan O'Neill                2.0   2.0     4.0\n",
              "Natalie Coughlin             5.0   3.0     4.0\n",
              "Dawn Fraser                  0.0   4.0     4.0\n",
              "Dara Torres                  4.0   4.0     4.0"
            ]
          },
          "metadata": {},
          "execution_count": 23
        }
      ]
    },
    {
      "cell_type": "code",
      "metadata": {
        "colab": {
          "base_uri": "https://localhost:8080/",
          "height": 624
        },
        "id": "-PijddKvuU2D",
        "outputId": "d591f6c4-7023-4601-e216-dfb89aa6dac3"
      },
      "source": [
        "# medal by country\n",
        "medals = summer.groupby(['Country','Medal'])[\"Sport\"].count().reset_index().sort_values(by='Sport',ascending=False)\n",
        "medals = medals.pivot('Country','Medal','Sport').fillna(0)\n",
        "\n",
        "top_medal_country=medals.sort_values(by=\"Gold\",ascending=False)[:11]\n",
        "top_medal_country.plot.barh(width=0.8,color=['#CD7F32','#FFDF00','#D3D3D3'])\n",
        "fig=plt.gcf()\n",
        "fig.set_size_inches(10,10)\n",
        "plt.title(\"Medals Distribution of Top Countries for Summer Olympics\")"
      ],
      "execution_count": 24,
      "outputs": [
        {
          "output_type": "execute_result",
          "data": {
            "text/plain": [
              "Text(0.5, 1.0, 'Medals Distribution of Top Countries for Summer Olympics')"
            ]
          },
          "metadata": {},
          "execution_count": 24
        },
        {
          "output_type": "display_data",
          "data": {
            "image/png": "[encoded data removed]",
            "text/plain": [
              "<Figure size 720x720 with 1 Axes>"
            ]
          },
          "metadata": {
            "needs_background": "light"
          }
        }
      ]
    },
    {
      "cell_type": "markdown",
      "metadata": {
        "id": "kfd4AJQNXaD6"
      },
      "source": [
        "### Over the years  men got always more medals than women but in the last years starting from 1980 there as been more inclusion of the women in the summer olympics."
      ]
    },
    {
      "cell_type": "code",
      "metadata": {
        "id": "WADU1DIXuU2E"
      },
      "source": [
        "\n",
        "\n",
        "# female\n",
        "female_participants = summer[(summer[\"Gender\"] == \"Women\")][[\"Gender\", \"Year\"]]\n",
        "female_participants = female_participants.groupby('Year').count().reset_index()\n",
        "\n",
        "#male\n",
        "male_participants = summer[(summer[\"Gender\"] == \"Men\")][[\"Gender\", \"Year\"]]\n",
        "male_participants = male_participants.groupby('Year').count().reset_index()"
      ],
      "execution_count": 29,
      "outputs": []
    },
    {
      "cell_type": "code",
      "metadata": {
        "colab": {
          "base_uri": "https://localhost:8080/",
          "height": 421
        },
        "id": "GaWXMaHRuU2E",
        "outputId": "ca34e3d4-ddc1-4f8c-9f75-ca2bcccd3e1b"
      },
      "source": [
        "sns.set_style('darkgrid')\n",
        "# matplotlib.rcParams['figure.figsize'] = (12, 10)\n",
        "plt.figure(figsize=(10,6))\n",
        "sns.lineplot(data=female_participants, x='Year', y='Gender',  palette = 'blue', label = 'Female')\n",
        "sns.lineplot(data=male_participants, x='Year', y='Gender',  palette = 'orange', label = 'Male')\n",
        "\n",
        "plt.title(\"Female & Male Participation over the Years (Summer Olympic)\")\n"
      ],
      "execution_count": 53,
      "outputs": [
        {
          "output_type": "execute_result",
          "data": {
            "text/plain": [
              "Text(0.5, 1.0, 'Female & Male Participation over the Years (Summer Olympic)')"
            ]
          },
          "metadata": {},
          "execution_count": 53
        },
        {
          "output_type": "display_data",
          "data": {
            "image/png": "[encoded data removed]",
            "text/plain": [
              "<Figure size 720x432 with 1 Axes>"
            ]
          },
          "metadata": {}
        }
      ]
    },
    {
      "cell_type": "markdown",
      "metadata": {
        "id": "55Hx00LxwlCk"
      },
      "source": [
        "## Winter\n",
        "\n",
        "### Data Cleaning"
      ]
    },
    {
      "cell_type": "code",
      "metadata": {
        "colab": {
          "base_uri": "https://localhost:8080/",
          "height": 204
        },
        "id": "yAe9vv4guU2F",
        "outputId": "ef528c1b-81f4-4531-9531-d094fb4455f4"
      },
      "source": [
        "winter.head()"
      ],
      "execution_count": 32,
      "outputs": [
        {
          "output_type": "execute_result",
          "data": {
            "text/html": [
              "<div>\n",
              "<style scoped>\n",
              "    .dataframe tbody tr th:only-of-type {\n",
              "        vertical-align: middle;\n",
              "    }\n",
              "\n",
              "    .dataframe tbody tr th {\n",
              "        vertical-align: top;\n",
              "    }\n",
              "\n",
              "    .dataframe thead th {\n",
              "        text-align: right;\n",
              "    }\n",
              "</style>\n",
              "<table border=\"1\" class=\"dataframe\">\n",
              "  <thead>\n",
              "    <tr style=\"text-align: right;\">\n",
              "      <th></th>\n",
              "      <th>Year</th>\n",
              "      <th>City</th>\n",
              "      <th>Sport</th>\n",
              "      <th>Discipline</th>\n",
              "      <th>Athlete</th>\n",
              "      <th>Country</th>\n",
              "      <th>Gender</th>\n",
              "      <th>Event</th>\n",
              "      <th>Medal</th>\n",
              "    </tr>\n",
              "  </thead>\n",
              "  <tbody>\n",
              "    <tr>\n",
              "      <th>0</th>\n",
              "      <td>1924</td>\n",
              "      <td>Chamonix</td>\n",
              "      <td>Biathlon</td>\n",
              "      <td>Biathlon</td>\n",
              "      <td>BERTHET, G.</td>\n",
              "      <td>FRA</td>\n",
              "      <td>Men</td>\n",
              "      <td>Military Patrol</td>\n",
              "      <td>Bronze</td>\n",
              "    </tr>\n",
              "    <tr>\n",
              "      <th>1</th>\n",
              "      <td>1924</td>\n",
              "      <td>Chamonix</td>\n",
              "      <td>Biathlon</td>\n",
              "      <td>Biathlon</td>\n",
              "      <td>MANDRILLON, C.</td>\n",
              "      <td>FRA</td>\n",
              "      <td>Men</td>\n",
              "      <td>Military Patrol</td>\n",
              "      <td>Bronze</td>\n",
              "    </tr>\n",
              "    <tr>\n",
              "      <th>2</th>\n",
              "      <td>1924</td>\n",
              "      <td>Chamonix</td>\n",
              "      <td>Biathlon</td>\n",
              "      <td>Biathlon</td>\n",
              "      <td>MANDRILLON, Maurice</td>\n",
              "      <td>FRA</td>\n",
              "      <td>Men</td>\n",
              "      <td>Military Patrol</td>\n",
              "      <td>Bronze</td>\n",
              "    </tr>\n",
              "    <tr>\n",
              "      <th>3</th>\n",
              "      <td>1924</td>\n",
              "      <td>Chamonix</td>\n",
              "      <td>Biathlon</td>\n",
              "      <td>Biathlon</td>\n",
              "      <td>VANDELLE, André</td>\n",
              "      <td>FRA</td>\n",
              "      <td>Men</td>\n",
              "      <td>Military Patrol</td>\n",
              "      <td>Bronze</td>\n",
              "    </tr>\n",
              "    <tr>\n",
              "      <th>4</th>\n",
              "      <td>1924</td>\n",
              "      <td>Chamonix</td>\n",
              "      <td>Biathlon</td>\n",
              "      <td>Biathlon</td>\n",
              "      <td>AUFDENBLATTEN, Adolf</td>\n",
              "      <td>SUI</td>\n",
              "      <td>Men</td>\n",
              "      <td>Military Patrol</td>\n",
              "      <td>Gold</td>\n",
              "    </tr>\n",
              "  </tbody>\n",
              "</table>\n",
              "</div>"
            ],
            "text/plain": [
              "   Year      City     Sport Discipline  ... Country Gender            Event   Medal\n",
              "0  1924  Chamonix  Biathlon   Biathlon  ...     FRA    Men  Military Patrol  Bronze\n",
              "1  1924  Chamonix  Biathlon   Biathlon  ...     FRA    Men  Military Patrol  Bronze\n",
              "2  1924  Chamonix  Biathlon   Biathlon  ...     FRA    Men  Military Patrol  Bronze\n",
              "3  1924  Chamonix  Biathlon   Biathlon  ...     FRA    Men  Military Patrol  Bronze\n",
              "4  1924  Chamonix  Biathlon   Biathlon  ...     SUI    Men  Military Patrol    Gold\n",
              "\n",
              "[5 rows x 9 columns]"
            ]
          },
          "metadata": {},
          "execution_count": 32
        }
      ]
    },
    {
      "cell_type": "markdown",
      "metadata": {
        "id": "HNeyRI2ta3x3"
      },
      "source": [
        "### On January 25, 1924, the first Winter Olympics take off in style at Chamonix in the French Alps.\n",
        "### Spectators were thrilled by the ski jump and bobsled as well as 12 other events involving a total of six sports.\n",
        "### The 1994 Winter Olympics, held in Lillehammer, Norway, were the first Winter Games to be held in a different year from the Summer Games.\n",
        "#### This change resulted from the decision reached in the 91st IOC Session (1986) to separate the Summer and Winter Games and place them in alternating even-numbered years."
      ]
    },
    {
      "cell_type": "code",
      "metadata": {
        "colab": {
          "base_uri": "https://localhost:8080/"
        },
        "id": "kg7igP6kx6Lt",
        "outputId": "9aeca04d-7123-40a0-c220-a911248b95bf"
      },
      "source": [
        "\n",
        "winter['Year'].unique()"
      ],
      "execution_count": 33,
      "outputs": [
        {
          "output_type": "execute_result",
          "data": {
            "text/plain": [
              "array([1924, 1928, 1932, 1936, 1948, 1952, 1956, 1960, 1964, 1968, 1972,\n",
              "       1976, 1980, 1984, 1988, 1992, 1994, 1998, 2002, 2006, 2010, 2014])"
            ]
          },
          "metadata": {},
          "execution_count": 33
        }
      ]
    },
    {
      "cell_type": "code",
      "metadata": {
        "id": "O1VGkDXXuU2F"
      },
      "source": [
        "#Removing ',' in the Athlete Column\n",
        "winter[\"Athlete\"]=winter[\"Athlete\"].str.split(', ').str[::-1].str.join(' ')\n",
        "winter[\"Athlete\"]=winter[\"Athlete\"].str.title()"
      ],
      "execution_count": 34,
      "outputs": []
    },
    {
      "cell_type": "markdown",
      "metadata": {
        "id": "c0cL0GO_Y_Vv"
      },
      "source": [
        "# Exploratory Data Analysis"
      ]
    },
    {
      "cell_type": "code",
      "metadata": {
        "id": "XmHKleB0xQ5V",
        "colab": {
          "base_uri": "https://localhost:8080/"
        },
        "outputId": "f083b8bb-fa66-41fb-edd2-78e4a6825404"
      },
      "source": [
        "print('There are {} Discipline during summer (1924-2014)'.format(winter['Discipline'].nunique()))"
      ],
      "execution_count": 35,
      "outputs": [
        {
          "output_type": "stream",
          "name": "stdout",
          "text": [
            "There are 15 Discipline during summer (1924-2014)\n"
          ]
        }
      ]
    },
    {
      "cell_type": "code",
      "metadata": {
        "id": "b1yG9TLVxQ7-",
        "colab": {
          "base_uri": "https://localhost:8080/",
          "height": 173
        },
        "outputId": "745b52a1-49a5-4796-89aa-66468d5a51f6"
      },
      "source": [
        "# 45 Countries, 19 Cities participated in winter Olympic game (1896-2012)\n",
        "# 2 Gender, 7 Sport, 15 Discipline, 83 Event, 3 medals (GOLD, SILVER, BRONZE) and 22759 unique Athlete\n",
        "\n",
        "winter.describe(include=['O'])"
      ],
      "execution_count": 36,
      "outputs": [
        {
          "output_type": "execute_result",
          "data": {
            "text/html": [
              "<div>\n",
              "<style scoped>\n",
              "    .dataframe tbody tr th:only-of-type {\n",
              "        vertical-align: middle;\n",
              "    }\n",
              "\n",
              "    .dataframe tbody tr th {\n",
              "        vertical-align: top;\n",
              "    }\n",
              "\n",
              "    .dataframe thead th {\n",
              "        text-align: right;\n",
              "    }\n",
              "</style>\n",
              "<table border=\"1\" class=\"dataframe\">\n",
              "  <thead>\n",
              "    <tr style=\"text-align: right;\">\n",
              "      <th></th>\n",
              "      <th>City</th>\n",
              "      <th>Sport</th>\n",
              "      <th>Discipline</th>\n",
              "      <th>Athlete</th>\n",
              "      <th>Country</th>\n",
              "      <th>Gender</th>\n",
              "      <th>Event</th>\n",
              "      <th>Medal</th>\n",
              "    </tr>\n",
              "  </thead>\n",
              "  <tbody>\n",
              "    <tr>\n",
              "      <th>count</th>\n",
              "      <td>5770</td>\n",
              "      <td>5770</td>\n",
              "      <td>5770</td>\n",
              "      <td>5770</td>\n",
              "      <td>5770</td>\n",
              "      <td>5770</td>\n",
              "      <td>5770</td>\n",
              "      <td>5770</td>\n",
              "    </tr>\n",
              "    <tr>\n",
              "      <th>unique</th>\n",
              "      <td>19</td>\n",
              "      <td>7</td>\n",
              "      <td>15</td>\n",
              "      <td>3758</td>\n",
              "      <td>45</td>\n",
              "      <td>2</td>\n",
              "      <td>83</td>\n",
              "      <td>3</td>\n",
              "    </tr>\n",
              "    <tr>\n",
              "      <th>top</th>\n",
              "      <td>Sochi</td>\n",
              "      <td>Skiing</td>\n",
              "      <td>Ice Hockey</td>\n",
              "      <td>Ole Einar Bjoerndalen</td>\n",
              "      <td>USA</td>\n",
              "      <td>Men</td>\n",
              "      <td>Ice Hockey</td>\n",
              "      <td>Silver</td>\n",
              "    </tr>\n",
              "    <tr>\n",
              "      <th>freq</th>\n",
              "      <td>612</td>\n",
              "      <td>1781</td>\n",
              "      <td>1536</td>\n",
              "      <td>13</td>\n",
              "      <td>653</td>\n",
              "      <td>3944</td>\n",
              "      <td>1536</td>\n",
              "      <td>1930</td>\n",
              "    </tr>\n",
              "  </tbody>\n",
              "</table>\n",
              "</div>"
            ],
            "text/plain": [
              "         City   Sport  Discipline  ... Gender       Event   Medal\n",
              "count    5770    5770        5770  ...   5770        5770    5770\n",
              "unique     19       7          15  ...      2          83       3\n",
              "top     Sochi  Skiing  Ice Hockey  ...    Men  Ice Hockey  Silver\n",
              "freq      612    1781        1536  ...   3944        1536    1930\n",
              "\n",
              "[4 rows x 8 columns]"
            ]
          },
          "metadata": {},
          "execution_count": 36
        }
      ]
    },
    {
      "cell_type": "code",
      "metadata": {
        "id": "QPZ8meScxQ-X",
        "colab": {
          "base_uri": "https://localhost:8080/",
          "height": 294
        },
        "outputId": "091e3ee6-83c8-4c20-acac-dd971d4f670b"
      },
      "source": [
        "gender_counts =winter[\"Gender\"].value_counts().reset_index(name= \"Counts\")[:10]\n",
        "\n",
        "#To get the percentage\n",
        "gender_counts['Percentage %'] = round(gender_counts.Counts / gender_counts.Counts.sum() * 100, 2)\n",
        "\n",
        "\n",
        "gender_percentage = gender_counts[\"Percentage %\"].to_list()\n",
        "plt.title('Gender Distribution', fontsize=30, loc='Right')\n",
        "plt.pie(gender_percentage, colors=['#009047','#E23651'], labels= [\"Men\", \"Women\"], radius=1.2, autopct= \"%0.1f%%\", pctdistance = 0.77,\n",
        "        textprops = {\"size\" : 17, \"color\" : \"#000000\"}, explode= [0.00, 0.00])\n",
        "\n",
        "centre_circle = plt.Circle((0,0), 0.8, fc = \"w\")\n",
        "fig = plt.gcf()\n",
        "fig.gca().add_artist(centre_circle)\n"
      ],
      "execution_count": 37,
      "outputs": [
        {
          "output_type": "execute_result",
          "data": {
            "text/plain": [
              "<matplotlib.patches.Circle at 0x7f764e147590>"
            ]
          },
          "metadata": {},
          "execution_count": 37
        },
        {
          "output_type": "display_data",
          "data": {
            "image/png": "[encoded data removed]",
            "text/plain": [
              "<Figure size 432x288 with 1 Axes>"
            ]
          },
          "metadata": {}
        }
      ]
    },
    {
      "cell_type": "code",
      "metadata": {
        "id": "HDnMQhPYxRBL",
        "colab": {
          "base_uri": "https://localhost:8080/",
          "height": 359
        },
        "outputId": "60dc433c-7db9-432f-c2c1-fcea81d0094d"
      },
      "source": [
        "# TOp 10 men athlete with the highest medal\n",
        "athlete_medal = winter.groupby(['Athlete','Country','Discipline','Sport'])['Medal'].count().reset_index().sort_values(\n",
        "    by=\"Medal\",ascending=False)[:10]\n",
        "athlete_medal"
      ],
      "execution_count": 38,
      "outputs": [
        {
          "output_type": "execute_result",
          "data": {
            "text/html": [
              "<div>\n",
              "<style scoped>\n",
              "    .dataframe tbody tr th:only-of-type {\n",
              "        vertical-align: middle;\n",
              "    }\n",
              "\n",
              "    .dataframe tbody tr th {\n",
              "        vertical-align: top;\n",
              "    }\n",
              "\n",
              "    .dataframe thead th {\n",
              "        text-align: right;\n",
              "    }\n",
              "</style>\n",
              "<table border=\"1\" class=\"dataframe\">\n",
              "  <thead>\n",
              "    <tr style=\"text-align: right;\">\n",
              "      <th></th>\n",
              "      <th>Athlete</th>\n",
              "      <th>Country</th>\n",
              "      <th>Discipline</th>\n",
              "      <th>Sport</th>\n",
              "      <th>Medal</th>\n",
              "    </tr>\n",
              "  </thead>\n",
              "  <tbody>\n",
              "    <tr>\n",
              "      <th>2643</th>\n",
              "      <td>Ole Einar Bjoerndalen</td>\n",
              "      <td>NOR</td>\n",
              "      <td>Biathlon</td>\n",
              "      <td>Biathlon</td>\n",
              "      <td>13</td>\n",
              "    </tr>\n",
              "    <tr>\n",
              "      <th>441</th>\n",
              "      <td>Björn Daehlie</td>\n",
              "      <td>NOR</td>\n",
              "      <td>Cross Country Skiing</td>\n",
              "      <td>Skiing</td>\n",
              "      <td>12</td>\n",
              "    </tr>\n",
              "    <tr>\n",
              "      <th>3235</th>\n",
              "      <td>Stefania Belmondo</td>\n",
              "      <td>ITA</td>\n",
              "      <td>Cross Country Skiing</td>\n",
              "      <td>Skiing</td>\n",
              "      <td>10</td>\n",
              "    </tr>\n",
              "    <tr>\n",
              "      <th>2274</th>\n",
              "      <td>Marit Bjoergen</td>\n",
              "      <td>NOR</td>\n",
              "      <td>Cross Country Skiing</td>\n",
              "      <td>Skiing</td>\n",
              "      <td>9</td>\n",
              "    </tr>\n",
              "    <tr>\n",
              "      <th>624</th>\n",
              "      <td>Claudia Pechstein</td>\n",
              "      <td>GER</td>\n",
              "      <td>Speed skating</td>\n",
              "      <td>Skating</td>\n",
              "      <td>9</td>\n",
              "    </tr>\n",
              "    <tr>\n",
              "      <th>2867</th>\n",
              "      <td>Raisa Smetanina</td>\n",
              "      <td>URS</td>\n",
              "      <td>Cross Country Skiing</td>\n",
              "      <td>Skiing</td>\n",
              "      <td>9</td>\n",
              "    </tr>\n",
              "    <tr>\n",
              "      <th>3209</th>\n",
              "      <td>Sixten Jernberg</td>\n",
              "      <td>SWE</td>\n",
              "      <td>Cross Country Skiing</td>\n",
              "      <td>Skiing</td>\n",
              "      <td>9</td>\n",
              "    </tr>\n",
              "    <tr>\n",
              "      <th>3514</th>\n",
              "      <td>Uschi Disl</td>\n",
              "      <td>GER</td>\n",
              "      <td>Biathlon</td>\n",
              "      <td>Biathlon</td>\n",
              "      <td>9</td>\n",
              "    </tr>\n",
              "    <tr>\n",
              "      <th>1993</th>\n",
              "      <td>Kjetil Andre Aamodt</td>\n",
              "      <td>NOR</td>\n",
              "      <td>Alpine Skiing</td>\n",
              "      <td>Skiing</td>\n",
              "      <td>8</td>\n",
              "    </tr>\n",
              "    <tr>\n",
              "      <th>1208</th>\n",
              "      <td>Gunda Niemann-Stirnemann</td>\n",
              "      <td>GER</td>\n",
              "      <td>Speed skating</td>\n",
              "      <td>Skating</td>\n",
              "      <td>8</td>\n",
              "    </tr>\n",
              "  </tbody>\n",
              "</table>\n",
              "</div>"
            ],
            "text/plain": [
              "                       Athlete Country            Discipline     Sport  Medal\n",
              "2643     Ole Einar Bjoerndalen     NOR              Biathlon  Biathlon     13\n",
              "441              Björn Daehlie     NOR  Cross Country Skiing    Skiing     12\n",
              "3235         Stefania Belmondo     ITA  Cross Country Skiing    Skiing     10\n",
              "2274            Marit Bjoergen     NOR  Cross Country Skiing    Skiing      9\n",
              "624          Claudia Pechstein     GER         Speed skating   Skating      9\n",
              "2867           Raisa Smetanina     URS  Cross Country Skiing    Skiing      9\n",
              "3209           Sixten Jernberg     SWE  Cross Country Skiing    Skiing      9\n",
              "3514                Uschi Disl     GER              Biathlon  Biathlon      9\n",
              "1993       Kjetil Andre Aamodt     NOR         Alpine Skiing    Skiing      8\n",
              "1208  Gunda Niemann-Stirnemann     GER         Speed skating   Skating      8"
            ]
          },
          "metadata": {},
          "execution_count": 38
        }
      ]
    },
    {
      "cell_type": "code",
      "metadata": {
        "id": "hSoo6X02xRGU",
        "colab": {
          "base_uri": "https://localhost:8080/",
          "height": 422
        },
        "outputId": "550a5d88-657c-4cc5-a695-cd5e238740b5"
      },
      "source": [
        "#Top 10 Athletes with the Most medal\n",
        "plt.figure(figsize=(10,6))\n",
        "sns.barplot(x = athlete_medal[\"Medal\"], y = athlete_medal['Athlete'])\n",
        "\n",
        "plt.xlabel(\"Medal_count\")\n",
        "plt.ylabel(\"Athlete\")\n",
        "plt.title(\"Top 10 Athlete with most Olympic medals\")"
      ],
      "execution_count": 39,
      "outputs": [
        {
          "output_type": "execute_result",
          "data": {
            "text/plain": [
              "Text(0.5, 1.0, 'Top 10 Athlete with most Olympic medals')"
            ]
          },
          "metadata": {},
          "execution_count": 39
        },
        {
          "output_type": "display_data",
          "data": {
            "image/png": "[encoded data removed]",
            "text/plain": [
              "<Figure size 720x432 with 1 Axes>"
            ]
          },
          "metadata": {}
        }
      ]
    },
    {
      "cell_type": "code",
      "metadata": {
        "id": "xa25xv-sxRIw",
        "colab": {
          "base_uri": "https://localhost:8080/",
          "height": 421
        },
        "outputId": "63bfba3d-b85b-4c79-ad13-cb2efe2702d0"
      },
      "source": [
        "# Highest Medal (Gold) achieved\n",
        "medals_athlete = winter.groupby(['Athlete','Medal'])[\"Sport\"].count().reset_index().sort_values(by='Sport',ascending=False)\n",
        "medals_athlete = medals_athlete.pivot('Athlete','Medal','Sport').fillna(0)\n",
        "gold_top_athletes=medals_athlete.sort_values(by=\"Gold\",ascending=False)[:11]\n",
        "gold_top_athletes"
      ],
      "execution_count": 40,
      "outputs": [
        {
          "output_type": "execute_result",
          "data": {
            "text/html": [
              "<div>\n",
              "<style scoped>\n",
              "    .dataframe tbody tr th:only-of-type {\n",
              "        vertical-align: middle;\n",
              "    }\n",
              "\n",
              "    .dataframe tbody tr th {\n",
              "        vertical-align: top;\n",
              "    }\n",
              "\n",
              "    .dataframe thead th {\n",
              "        text-align: right;\n",
              "    }\n",
              "</style>\n",
              "<table border=\"1\" class=\"dataframe\">\n",
              "  <thead>\n",
              "    <tr style=\"text-align: right;\">\n",
              "      <th>Medal</th>\n",
              "      <th>Bronze</th>\n",
              "      <th>Gold</th>\n",
              "      <th>Silver</th>\n",
              "    </tr>\n",
              "    <tr>\n",
              "      <th>Athlete</th>\n",
              "      <th></th>\n",
              "      <th></th>\n",
              "      <th></th>\n",
              "    </tr>\n",
              "  </thead>\n",
              "  <tbody>\n",
              "    <tr>\n",
              "      <th>Björn Daehlie</th>\n",
              "      <td>0.0</td>\n",
              "      <td>8.0</td>\n",
              "      <td>4.0</td>\n",
              "    </tr>\n",
              "    <tr>\n",
              "      <th>Ole Einar Bjoerndalen</th>\n",
              "      <td>1.0</td>\n",
              "      <td>8.0</td>\n",
              "      <td>4.0</td>\n",
              "    </tr>\n",
              "    <tr>\n",
              "      <th>Ljubov Egorova</th>\n",
              "      <td>0.0</td>\n",
              "      <td>6.0</td>\n",
              "      <td>3.0</td>\n",
              "    </tr>\n",
              "    <tr>\n",
              "      <th>Marit Bjoergen</th>\n",
              "      <td>1.0</td>\n",
              "      <td>6.0</td>\n",
              "      <td>2.0</td>\n",
              "    </tr>\n",
              "    <tr>\n",
              "      <th>Lidiya Skoblikova</th>\n",
              "      <td>0.0</td>\n",
              "      <td>6.0</td>\n",
              "      <td>0.0</td>\n",
              "    </tr>\n",
              "    <tr>\n",
              "      <th>Claudia Pechstein</th>\n",
              "      <td>2.0</td>\n",
              "      <td>5.0</td>\n",
              "      <td>2.0</td>\n",
              "    </tr>\n",
              "    <tr>\n",
              "      <th>Clas Thunberg</th>\n",
              "      <td>1.0</td>\n",
              "      <td>5.0</td>\n",
              "      <td>1.0</td>\n",
              "    </tr>\n",
              "    <tr>\n",
              "      <th>Larissa Lazutina</th>\n",
              "      <td>1.0</td>\n",
              "      <td>5.0</td>\n",
              "      <td>1.0</td>\n",
              "    </tr>\n",
              "    <tr>\n",
              "      <th>Bonnie Blair</th>\n",
              "      <td>1.0</td>\n",
              "      <td>5.0</td>\n",
              "      <td>0.0</td>\n",
              "    </tr>\n",
              "    <tr>\n",
              "      <th>Thomas Alsgaard</th>\n",
              "      <td>0.0</td>\n",
              "      <td>5.0</td>\n",
              "      <td>1.0</td>\n",
              "    </tr>\n",
              "    <tr>\n",
              "      <th>Eric Heiden</th>\n",
              "      <td>0.0</td>\n",
              "      <td>5.0</td>\n",
              "      <td>0.0</td>\n",
              "    </tr>\n",
              "  </tbody>\n",
              "</table>\n",
              "</div>"
            ],
            "text/plain": [
              "Medal                  Bronze  Gold  Silver\n",
              "Athlete                                    \n",
              "Björn Daehlie             0.0   8.0     4.0\n",
              "Ole Einar Bjoerndalen     1.0   8.0     4.0\n",
              "Ljubov Egorova            0.0   6.0     3.0\n",
              "Marit Bjoergen            1.0   6.0     2.0\n",
              "Lidiya Skoblikova         0.0   6.0     0.0\n",
              "Claudia Pechstein         2.0   5.0     2.0\n",
              "Clas Thunberg             1.0   5.0     1.0\n",
              "Larissa Lazutina          1.0   5.0     1.0\n",
              "Bonnie Blair              1.0   5.0     0.0\n",
              "Thomas Alsgaard           0.0   5.0     1.0\n",
              "Eric Heiden               0.0   5.0     0.0"
            ]
          },
          "metadata": {},
          "execution_count": 40
        }
      ]
    },
    {
      "cell_type": "code",
      "metadata": {
        "colab": {
          "base_uri": "https://localhost:8080/",
          "height": 297
        },
        "id": "IZcJwrVkdoOH",
        "outputId": "6810d7b1-0ef6-4635-a078-85a56b60f8ea"
      },
      "source": [
        "# Ole Einar Bjoerndalen has 8 gold representing NOR(Nagano, Salt Lake City,Vancouver,Sochi) - Sport: Biathlon\n",
        "winter[(winter['Athlete'] == 'Ole Einar Bjoerndalen')&(winter['Medal'] == 'Gold')]"
      ],
      "execution_count": 41,
      "outputs": [
        {
          "output_type": "execute_result",
          "data": {
            "text/html": [
              "<div>\n",
              "<style scoped>\n",
              "    .dataframe tbody tr th:only-of-type {\n",
              "        vertical-align: middle;\n",
              "    }\n",
              "\n",
              "    .dataframe tbody tr th {\n",
              "        vertical-align: top;\n",
              "    }\n",
              "\n",
              "    .dataframe thead th {\n",
              "        text-align: right;\n",
              "    }\n",
              "</style>\n",
              "<table border=\"1\" class=\"dataframe\">\n",
              "  <thead>\n",
              "    <tr style=\"text-align: right;\">\n",
              "      <th></th>\n",
              "      <th>Year</th>\n",
              "      <th>City</th>\n",
              "      <th>Sport</th>\n",
              "      <th>Discipline</th>\n",
              "      <th>Athlete</th>\n",
              "      <th>Country</th>\n",
              "      <th>Gender</th>\n",
              "      <th>Event</th>\n",
              "      <th>Medal</th>\n",
              "    </tr>\n",
              "  </thead>\n",
              "  <tbody>\n",
              "    <tr>\n",
              "      <th>3171</th>\n",
              "      <td>1998</td>\n",
              "      <td>Nagano</td>\n",
              "      <td>Biathlon</td>\n",
              "      <td>Biathlon</td>\n",
              "      <td>Ole Einar Bjoerndalen</td>\n",
              "      <td>NOR</td>\n",
              "      <td>Men</td>\n",
              "      <td>10KM</td>\n",
              "      <td>Gold</td>\n",
              "    </tr>\n",
              "    <tr>\n",
              "      <th>3618</th>\n",
              "      <td>2002</td>\n",
              "      <td>Salt Lake City</td>\n",
              "      <td>Biathlon</td>\n",
              "      <td>Biathlon</td>\n",
              "      <td>Ole Einar Bjoerndalen</td>\n",
              "      <td>NOR</td>\n",
              "      <td>Men</td>\n",
              "      <td>10KM</td>\n",
              "      <td>Gold</td>\n",
              "    </tr>\n",
              "    <tr>\n",
              "      <th>3624</th>\n",
              "      <td>2002</td>\n",
              "      <td>Salt Lake City</td>\n",
              "      <td>Biathlon</td>\n",
              "      <td>Biathlon</td>\n",
              "      <td>Ole Einar Bjoerndalen</td>\n",
              "      <td>NOR</td>\n",
              "      <td>Men</td>\n",
              "      <td>12.5Km Pursuit</td>\n",
              "      <td>Gold</td>\n",
              "    </tr>\n",
              "    <tr>\n",
              "      <th>3630</th>\n",
              "      <td>2002</td>\n",
              "      <td>Salt Lake City</td>\n",
              "      <td>Biathlon</td>\n",
              "      <td>Biathlon</td>\n",
              "      <td>Ole Einar Bjoerndalen</td>\n",
              "      <td>NOR</td>\n",
              "      <td>Men</td>\n",
              "      <td>20KM</td>\n",
              "      <td>Gold</td>\n",
              "    </tr>\n",
              "    <tr>\n",
              "      <th>3637</th>\n",
              "      <td>2002</td>\n",
              "      <td>Salt Lake City</td>\n",
              "      <td>Biathlon</td>\n",
              "      <td>Biathlon</td>\n",
              "      <td>Ole Einar Bjoerndalen</td>\n",
              "      <td>NOR</td>\n",
              "      <td>Men</td>\n",
              "      <td>4X7.5KM Relay</td>\n",
              "      <td>Gold</td>\n",
              "    </tr>\n",
              "    <tr>\n",
              "      <th>4666</th>\n",
              "      <td>2010</td>\n",
              "      <td>Vancouver</td>\n",
              "      <td>Biathlon</td>\n",
              "      <td>Biathlon</td>\n",
              "      <td>Ole Einar Bjoerndalen</td>\n",
              "      <td>NOR</td>\n",
              "      <td>Men</td>\n",
              "      <td>4X7.5KM Relay</td>\n",
              "      <td>Gold</td>\n",
              "    </tr>\n",
              "    <tr>\n",
              "      <th>5160</th>\n",
              "      <td>2014</td>\n",
              "      <td>Sochi</td>\n",
              "      <td>Biathlon</td>\n",
              "      <td>Biathlon</td>\n",
              "      <td>Ole Einar Bjoerndalen</td>\n",
              "      <td>NOR</td>\n",
              "      <td>Men</td>\n",
              "      <td>10KM</td>\n",
              "      <td>Gold</td>\n",
              "    </tr>\n",
              "    <tr>\n",
              "      <th>5186</th>\n",
              "      <td>2014</td>\n",
              "      <td>Sochi</td>\n",
              "      <td>Biathlon</td>\n",
              "      <td>Biathlon</td>\n",
              "      <td>Ole Einar Bjoerndalen</td>\n",
              "      <td>NOR</td>\n",
              "      <td>Men</td>\n",
              "      <td>Relay Mix</td>\n",
              "      <td>Gold</td>\n",
              "    </tr>\n",
              "  </tbody>\n",
              "</table>\n",
              "</div>"
            ],
            "text/plain": [
              "      Year            City     Sport  ... Gender           Event Medal\n",
              "3171  1998          Nagano  Biathlon  ...    Men            10KM  Gold\n",
              "3618  2002  Salt Lake City  Biathlon  ...    Men            10KM  Gold\n",
              "3624  2002  Salt Lake City  Biathlon  ...    Men  12.5Km Pursuit  Gold\n",
              "3630  2002  Salt Lake City  Biathlon  ...    Men            20KM  Gold\n",
              "3637  2002  Salt Lake City  Biathlon  ...    Men   4X7.5KM Relay  Gold\n",
              "4666  2010       Vancouver  Biathlon  ...    Men   4X7.5KM Relay  Gold\n",
              "5160  2014           Sochi  Biathlon  ...    Men            10KM  Gold\n",
              "5186  2014           Sochi  Biathlon  ...    Men       Relay Mix  Gold\n",
              "\n",
              "[8 rows x 9 columns]"
            ]
          },
          "metadata": {},
          "execution_count": 41
        }
      ]
    },
    {
      "cell_type": "code",
      "metadata": {
        "colab": {
          "base_uri": "https://localhost:8080/",
          "height": 297
        },
        "id": "CKmO3zMndoVw",
        "outputId": "875e010c-edce-46b6-837d-35c47e380d2d"
      },
      "source": [
        "# Björn Daehlie also had 8 gold representing NOR(Nagano, Albertville andNagano) - Sport : Skiing\n",
        "winter[(winter['Athlete'] == 'Björn Daehlie')&(winter['Medal'] == 'Gold')]"
      ],
      "execution_count": 42,
      "outputs": [
        {
          "output_type": "execute_result",
          "data": {
            "text/html": [
              "<div>\n",
              "<style scoped>\n",
              "    .dataframe tbody tr th:only-of-type {\n",
              "        vertical-align: middle;\n",
              "    }\n",
              "\n",
              "    .dataframe tbody tr th {\n",
              "        vertical-align: top;\n",
              "    }\n",
              "\n",
              "    .dataframe thead th {\n",
              "        text-align: right;\n",
              "    }\n",
              "</style>\n",
              "<table border=\"1\" class=\"dataframe\">\n",
              "  <thead>\n",
              "    <tr style=\"text-align: right;\">\n",
              "      <th></th>\n",
              "      <th>Year</th>\n",
              "      <th>City</th>\n",
              "      <th>Sport</th>\n",
              "      <th>Discipline</th>\n",
              "      <th>Athlete</th>\n",
              "      <th>Country</th>\n",
              "      <th>Gender</th>\n",
              "      <th>Event</th>\n",
              "      <th>Medal</th>\n",
              "    </tr>\n",
              "  </thead>\n",
              "  <tbody>\n",
              "    <tr>\n",
              "      <th>2759</th>\n",
              "      <td>1992</td>\n",
              "      <td>Albertville</td>\n",
              "      <td>Skiing</td>\n",
              "      <td>Cross Country Skiing</td>\n",
              "      <td>Björn Daehlie</td>\n",
              "      <td>NOR</td>\n",
              "      <td>Men</td>\n",
              "      <td>4X10KM Relay</td>\n",
              "      <td>Gold</td>\n",
              "    </tr>\n",
              "    <tr>\n",
              "      <th>2780</th>\n",
              "      <td>1992</td>\n",
              "      <td>Albertville</td>\n",
              "      <td>Skiing</td>\n",
              "      <td>Cross Country Skiing</td>\n",
              "      <td>Björn Daehlie</td>\n",
              "      <td>NOR</td>\n",
              "      <td>Men</td>\n",
              "      <td>50KM</td>\n",
              "      <td>Gold</td>\n",
              "    </tr>\n",
              "    <tr>\n",
              "      <th>2786</th>\n",
              "      <td>1992</td>\n",
              "      <td>Albertville</td>\n",
              "      <td>Skiing</td>\n",
              "      <td>Cross Country Skiing</td>\n",
              "      <td>Björn Daehlie</td>\n",
              "      <td>NOR</td>\n",
              "      <td>Men</td>\n",
              "      <td>Combined 10KM + 15KM Pursuit</td>\n",
              "      <td>Gold</td>\n",
              "    </tr>\n",
              "    <tr>\n",
              "      <th>3081</th>\n",
              "      <td>1994</td>\n",
              "      <td>Lillehammer</td>\n",
              "      <td>Skiing</td>\n",
              "      <td>Cross Country Skiing</td>\n",
              "      <td>Björn Daehlie</td>\n",
              "      <td>NOR</td>\n",
              "      <td>Men</td>\n",
              "      <td>10KM Pursuit</td>\n",
              "      <td>Gold</td>\n",
              "    </tr>\n",
              "    <tr>\n",
              "      <th>3123</th>\n",
              "      <td>1994</td>\n",
              "      <td>Lillehammer</td>\n",
              "      <td>Skiing</td>\n",
              "      <td>Cross Country Skiing</td>\n",
              "      <td>Björn Daehlie</td>\n",
              "      <td>NOR</td>\n",
              "      <td>Men</td>\n",
              "      <td>Combined 10KM + 15KM Pursuit</td>\n",
              "      <td>Gold</td>\n",
              "    </tr>\n",
              "    <tr>\n",
              "      <th>3513</th>\n",
              "      <td>1998</td>\n",
              "      <td>Nagano</td>\n",
              "      <td>Skiing</td>\n",
              "      <td>Cross Country Skiing</td>\n",
              "      <td>Björn Daehlie</td>\n",
              "      <td>NOR</td>\n",
              "      <td>Men</td>\n",
              "      <td>10KM Pursuit</td>\n",
              "      <td>Gold</td>\n",
              "    </tr>\n",
              "    <tr>\n",
              "      <th>3529</th>\n",
              "      <td>1998</td>\n",
              "      <td>Nagano</td>\n",
              "      <td>Skiing</td>\n",
              "      <td>Cross Country Skiing</td>\n",
              "      <td>Björn Daehlie</td>\n",
              "      <td>NOR</td>\n",
              "      <td>Men</td>\n",
              "      <td>4X10KM Relay</td>\n",
              "      <td>Gold</td>\n",
              "    </tr>\n",
              "    <tr>\n",
              "      <th>3549</th>\n",
              "      <td>1998</td>\n",
              "      <td>Nagano</td>\n",
              "      <td>Skiing</td>\n",
              "      <td>Cross Country Skiing</td>\n",
              "      <td>Björn Daehlie</td>\n",
              "      <td>NOR</td>\n",
              "      <td>Men</td>\n",
              "      <td>50KM</td>\n",
              "      <td>Gold</td>\n",
              "    </tr>\n",
              "  </tbody>\n",
              "</table>\n",
              "</div>"
            ],
            "text/plain": [
              "      Year         City   Sport  ... Gender                         Event Medal\n",
              "2759  1992  Albertville  Skiing  ...    Men                  4X10KM Relay  Gold\n",
              "2780  1992  Albertville  Skiing  ...    Men                          50KM  Gold\n",
              "2786  1992  Albertville  Skiing  ...    Men  Combined 10KM + 15KM Pursuit  Gold\n",
              "3081  1994  Lillehammer  Skiing  ...    Men                  10KM Pursuit  Gold\n",
              "3123  1994  Lillehammer  Skiing  ...    Men  Combined 10KM + 15KM Pursuit  Gold\n",
              "3513  1998       Nagano  Skiing  ...    Men                  10KM Pursuit  Gold\n",
              "3529  1998       Nagano  Skiing  ...    Men                  4X10KM Relay  Gold\n",
              "3549  1998       Nagano  Skiing  ...    Men                          50KM  Gold\n",
              "\n",
              "[8 rows x 9 columns]"
            ]
          },
          "metadata": {},
          "execution_count": 42
        }
      ]
    },
    {
      "cell_type": "code",
      "metadata": {
        "colab": {
          "base_uri": "https://localhost:8080/",
          "height": 421
        },
        "id": "i20xZJDpdobR",
        "outputId": "ce0fd748-8a94-4068-9d84-3a2f928f98a5"
      },
      "source": [
        "# Highest Medal (Bronze) achieved\n",
        "medals_athlete = winter.groupby(['Athlete','Medal'])[\"Sport\"].count().reset_index().sort_values(by='Sport',ascending=False)\n",
        "medals_athlete = medals_athlete.pivot('Athlete','Medal','Sport').fillna(0)\n",
        "gold_top_athletes=medals_athlete.sort_values(by=\"Bronze\",ascending=False)[:11]\n",
        "gold_top_athletes"
      ],
      "execution_count": 43,
      "outputs": [
        {
          "output_type": "execute_result",
          "data": {
            "text/html": [
              "<div>\n",
              "<style scoped>\n",
              "    .dataframe tbody tr th:only-of-type {\n",
              "        vertical-align: middle;\n",
              "    }\n",
              "\n",
              "    .dataframe tbody tr th {\n",
              "        vertical-align: top;\n",
              "    }\n",
              "\n",
              "    .dataframe thead th {\n",
              "        text-align: right;\n",
              "    }\n",
              "</style>\n",
              "<table border=\"1\" class=\"dataframe\">\n",
              "  <thead>\n",
              "    <tr style=\"text-align: right;\">\n",
              "      <th>Medal</th>\n",
              "      <th>Bronze</th>\n",
              "      <th>Gold</th>\n",
              "      <th>Silver</th>\n",
              "    </tr>\n",
              "    <tr>\n",
              "      <th>Athlete</th>\n",
              "      <th></th>\n",
              "      <th></th>\n",
              "      <th></th>\n",
              "    </tr>\n",
              "  </thead>\n",
              "  <tbody>\n",
              "    <tr>\n",
              "      <th>Harri Kirvesniemi</th>\n",
              "      <td>6.0</td>\n",
              "      <td>0.0</td>\n",
              "      <td>0.0</td>\n",
              "    </tr>\n",
              "    <tr>\n",
              "      <th>Stefania Belmondo</th>\n",
              "      <td>5.0</td>\n",
              "      <td>2.0</td>\n",
              "      <td>3.0</td>\n",
              "    </tr>\n",
              "    <tr>\n",
              "      <th>Arianna Fontana</th>\n",
              "      <td>4.0</td>\n",
              "      <td>0.0</td>\n",
              "      <td>1.0</td>\n",
              "    </tr>\n",
              "    <tr>\n",
              "      <th>Apolo Anton Ohno</th>\n",
              "      <td>4.0</td>\n",
              "      <td>2.0</td>\n",
              "      <td>2.0</td>\n",
              "    </tr>\n",
              "    <tr>\n",
              "      <th>Elena Vaelbe</th>\n",
              "      <td>4.0</td>\n",
              "      <td>3.0</td>\n",
              "      <td>0.0</td>\n",
              "    </tr>\n",
              "    <tr>\n",
              "      <th>Anja Paerson</th>\n",
              "      <td>4.0</td>\n",
              "      <td>1.0</td>\n",
              "      <td>1.0</td>\n",
              "    </tr>\n",
              "    <tr>\n",
              "      <th>Marja-Liisa Kirvesniemi</th>\n",
              "      <td>4.0</td>\n",
              "      <td>3.0</td>\n",
              "      <td>0.0</td>\n",
              "    </tr>\n",
              "    <tr>\n",
              "      <th>Mika Myllylae</th>\n",
              "      <td>4.0</td>\n",
              "      <td>1.0</td>\n",
              "      <td>1.0</td>\n",
              "    </tr>\n",
              "    <tr>\n",
              "      <th>Roald Larsen</th>\n",
              "      <td>4.0</td>\n",
              "      <td>0.0</td>\n",
              "      <td>2.0</td>\n",
              "    </tr>\n",
              "    <tr>\n",
              "      <th>Rintje Ritsma</th>\n",
              "      <td>4.0</td>\n",
              "      <td>0.0</td>\n",
              "      <td>2.0</td>\n",
              "    </tr>\n",
              "    <tr>\n",
              "      <th>Gabriella Paruzzi</th>\n",
              "      <td>4.0</td>\n",
              "      <td>1.0</td>\n",
              "      <td>0.0</td>\n",
              "    </tr>\n",
              "  </tbody>\n",
              "</table>\n",
              "</div>"
            ],
            "text/plain": [
              "Medal                    Bronze  Gold  Silver\n",
              "Athlete                                      \n",
              "Harri Kirvesniemi           6.0   0.0     0.0\n",
              "Stefania Belmondo           5.0   2.0     3.0\n",
              "Arianna Fontana             4.0   0.0     1.0\n",
              "Apolo Anton Ohno            4.0   2.0     2.0\n",
              "Elena Vaelbe                4.0   3.0     0.0\n",
              "Anja Paerson                4.0   1.0     1.0\n",
              "Marja-Liisa Kirvesniemi     4.0   3.0     0.0\n",
              "Mika Myllylae               4.0   1.0     1.0\n",
              "Roald Larsen                4.0   0.0     2.0\n",
              "Rintje Ritsma               4.0   0.0     2.0\n",
              "Gabriella Paruzzi           4.0   1.0     0.0"
            ]
          },
          "metadata": {},
          "execution_count": 43
        }
      ]
    },
    {
      "cell_type": "code",
      "metadata": {
        "colab": {
          "base_uri": "https://localhost:8080/",
          "height": 421
        },
        "id": "YoK5qmpAdof3",
        "outputId": "4fc2027e-dc1a-46c7-e9cc-6e3d5d8ea6cf"
      },
      "source": [
        "# Highest Medal (Silver) achieved\n",
        "medals_athlete = winter.groupby(['Athlete','Medal'])[\"Sport\"].count().reset_index().sort_values(by='Sport',ascending=False)\n",
        "medals_athlete = medals_athlete.pivot('Athlete','Medal','Sport').fillna(0)\n",
        "gold_top_athletes = medals_athlete.sort_values(by=\"Silver\",ascending=False)[:11]\n",
        "gold_top_athletes"
      ],
      "execution_count": 44,
      "outputs": [
        {
          "output_type": "execute_result",
          "data": {
            "text/html": [
              "<div>\n",
              "<style scoped>\n",
              "    .dataframe tbody tr th:only-of-type {\n",
              "        vertical-align: middle;\n",
              "    }\n",
              "\n",
              "    .dataframe tbody tr th {\n",
              "        vertical-align: top;\n",
              "    }\n",
              "\n",
              "    .dataframe thead th {\n",
              "        text-align: right;\n",
              "    }\n",
              "</style>\n",
              "<table border=\"1\" class=\"dataframe\">\n",
              "  <thead>\n",
              "    <tr style=\"text-align: right;\">\n",
              "      <th>Medal</th>\n",
              "      <th>Bronze</th>\n",
              "      <th>Gold</th>\n",
              "      <th>Silver</th>\n",
              "    </tr>\n",
              "    <tr>\n",
              "      <th>Athlete</th>\n",
              "      <th></th>\n",
              "      <th></th>\n",
              "      <th></th>\n",
              "    </tr>\n",
              "  </thead>\n",
              "  <tbody>\n",
              "    <tr>\n",
              "      <th>Raisa Smetanina</th>\n",
              "      <td>1.0</td>\n",
              "      <td>4.0</td>\n",
              "      <td>5.0</td>\n",
              "    </tr>\n",
              "    <tr>\n",
              "      <th>Bogdan Musiol</th>\n",
              "      <td>1.0</td>\n",
              "      <td>1.0</td>\n",
              "      <td>5.0</td>\n",
              "    </tr>\n",
              "    <tr>\n",
              "      <th>Andrea Ehrig</th>\n",
              "      <td>1.0</td>\n",
              "      <td>1.0</td>\n",
              "      <td>5.0</td>\n",
              "    </tr>\n",
              "    <tr>\n",
              "      <th>Björn Daehlie</th>\n",
              "      <td>0.0</td>\n",
              "      <td>8.0</td>\n",
              "      <td>4.0</td>\n",
              "    </tr>\n",
              "    <tr>\n",
              "      <th>Ivica Kostelic</th>\n",
              "      <td>0.0</td>\n",
              "      <td>0.0</td>\n",
              "      <td>4.0</td>\n",
              "    </tr>\n",
              "    <tr>\n",
              "      <th>Katerina Neumannova</th>\n",
              "      <td>1.0</td>\n",
              "      <td>1.0</td>\n",
              "      <td>4.0</td>\n",
              "    </tr>\n",
              "    <tr>\n",
              "      <th>Uschi Disl</th>\n",
              "      <td>3.0</td>\n",
              "      <td>2.0</td>\n",
              "      <td>4.0</td>\n",
              "    </tr>\n",
              "    <tr>\n",
              "      <th>Ho-Suk Lee</th>\n",
              "      <td>0.0</td>\n",
              "      <td>1.0</td>\n",
              "      <td>4.0</td>\n",
              "    </tr>\n",
              "    <tr>\n",
              "      <th>Hilkka Riihivuori</th>\n",
              "      <td>0.0</td>\n",
              "      <td>0.0</td>\n",
              "      <td>4.0</td>\n",
              "    </tr>\n",
              "    <tr>\n",
              "      <th>Vladimir Smirnov</th>\n",
              "      <td>2.0</td>\n",
              "      <td>1.0</td>\n",
              "      <td>4.0</td>\n",
              "    </tr>\n",
              "    <tr>\n",
              "      <th>Karin Kania</th>\n",
              "      <td>1.0</td>\n",
              "      <td>3.0</td>\n",
              "      <td>4.0</td>\n",
              "    </tr>\n",
              "  </tbody>\n",
              "</table>\n",
              "</div>"
            ],
            "text/plain": [
              "Medal                Bronze  Gold  Silver\n",
              "Athlete                                  \n",
              "Raisa Smetanina         1.0   4.0     5.0\n",
              "Bogdan Musiol           1.0   1.0     5.0\n",
              "Andrea Ehrig            1.0   1.0     5.0\n",
              "Björn Daehlie           0.0   8.0     4.0\n",
              "Ivica Kostelic          0.0   0.0     4.0\n",
              "Katerina Neumannova     1.0   1.0     4.0\n",
              "Uschi Disl              3.0   2.0     4.0\n",
              "Ho-Suk Lee              0.0   1.0     4.0\n",
              "Hilkka Riihivuori       0.0   0.0     4.0\n",
              "Vladimir Smirnov        2.0   1.0     4.0\n",
              "Karin Kania             1.0   3.0     4.0"
            ]
          },
          "metadata": {},
          "execution_count": 44
        }
      ]
    },
    {
      "cell_type": "code",
      "metadata": {
        "colab": {
          "base_uri": "https://localhost:8080/",
          "height": 359
        },
        "id": "Ja4-R9v5donm",
        "outputId": "11d45e5e-05ef-4027-fd5d-78eb9bd78e8c"
      },
      "source": [
        "# top 10 female with highest medal\n",
        "female_athlete_medal = winter[winter['Gender'] == 'Women'].groupby(\n",
        "    ['Athlete','Country','Discipline','Sport'])['Medal'].count().reset_index().sort_values(\n",
        "    by=\"Medal\",ascending=False)[:10]\n",
        "female_athlete_medal"
      ],
      "execution_count": 45,
      "outputs": [
        {
          "output_type": "execute_result",
          "data": {
            "text/html": [
              "<div>\n",
              "<style scoped>\n",
              "    .dataframe tbody tr th:only-of-type {\n",
              "        vertical-align: middle;\n",
              "    }\n",
              "\n",
              "    .dataframe tbody tr th {\n",
              "        vertical-align: top;\n",
              "    }\n",
              "\n",
              "    .dataframe thead th {\n",
              "        text-align: right;\n",
              "    }\n",
              "</style>\n",
              "<table border=\"1\" class=\"dataframe\">\n",
              "  <thead>\n",
              "    <tr style=\"text-align: right;\">\n",
              "      <th></th>\n",
              "      <th>Athlete</th>\n",
              "      <th>Country</th>\n",
              "      <th>Discipline</th>\n",
              "      <th>Sport</th>\n",
              "      <th>Medal</th>\n",
              "    </tr>\n",
              "  </thead>\n",
              "  <tbody>\n",
              "    <tr>\n",
              "      <th>941</th>\n",
              "      <td>Stefania Belmondo</td>\n",
              "      <td>ITA</td>\n",
              "      <td>Cross Country Skiing</td>\n",
              "      <td>Skiing</td>\n",
              "      <td>10</td>\n",
              "    </tr>\n",
              "    <tr>\n",
              "      <th>204</th>\n",
              "      <td>Claudia Pechstein</td>\n",
              "      <td>GER</td>\n",
              "      <td>Speed skating</td>\n",
              "      <td>Skating</td>\n",
              "      <td>9</td>\n",
              "    </tr>\n",
              "    <tr>\n",
              "      <th>857</th>\n",
              "      <td>Raisa Smetanina</td>\n",
              "      <td>URS</td>\n",
              "      <td>Cross Country Skiing</td>\n",
              "      <td>Skiing</td>\n",
              "      <td>9</td>\n",
              "    </tr>\n",
              "    <tr>\n",
              "      <th>1021</th>\n",
              "      <td>Uschi Disl</td>\n",
              "      <td>GER</td>\n",
              "      <td>Biathlon</td>\n",
              "      <td>Biathlon</td>\n",
              "      <td>9</td>\n",
              "    </tr>\n",
              "    <tr>\n",
              "      <th>699</th>\n",
              "      <td>Marit Bjoergen</td>\n",
              "      <td>NOR</td>\n",
              "      <td>Cross Country Skiing</td>\n",
              "      <td>Skiing</td>\n",
              "      <td>9</td>\n",
              "    </tr>\n",
              "    <tr>\n",
              "      <th>358</th>\n",
              "      <td>Gunda Niemann-Stirnemann</td>\n",
              "      <td>GER</td>\n",
              "      <td>Speed skating</td>\n",
              "      <td>Skating</td>\n",
              "      <td>8</td>\n",
              "    </tr>\n",
              "    <tr>\n",
              "      <th>501</th>\n",
              "      <td>Karin Kania</td>\n",
              "      <td>GDR</td>\n",
              "      <td>Speed skating</td>\n",
              "      <td>Skating</td>\n",
              "      <td>8</td>\n",
              "    </tr>\n",
              "    <tr>\n",
              "      <th>338</th>\n",
              "      <td>Galina Kulakova</td>\n",
              "      <td>URS</td>\n",
              "      <td>Cross Country Skiing</td>\n",
              "      <td>Skiing</td>\n",
              "      <td>8</td>\n",
              "    </tr>\n",
              "    <tr>\n",
              "      <th>519</th>\n",
              "      <td>Kati Wilhelm</td>\n",
              "      <td>GER</td>\n",
              "      <td>Biathlon</td>\n",
              "      <td>Biathlon</td>\n",
              "      <td>7</td>\n",
              "    </tr>\n",
              "    <tr>\n",
              "      <th>649</th>\n",
              "      <td>Manuela Di Centa</td>\n",
              "      <td>ITA</td>\n",
              "      <td>Cross Country Skiing</td>\n",
              "      <td>Skiing</td>\n",
              "      <td>7</td>\n",
              "    </tr>\n",
              "  </tbody>\n",
              "</table>\n",
              "</div>"
            ],
            "text/plain": [
              "                       Athlete Country            Discipline     Sport  Medal\n",
              "941          Stefania Belmondo     ITA  Cross Country Skiing    Skiing     10\n",
              "204          Claudia Pechstein     GER         Speed skating   Skating      9\n",
              "857            Raisa Smetanina     URS  Cross Country Skiing    Skiing      9\n",
              "1021                Uschi Disl     GER              Biathlon  Biathlon      9\n",
              "699             Marit Bjoergen     NOR  Cross Country Skiing    Skiing      9\n",
              "358   Gunda Niemann-Stirnemann     GER         Speed skating   Skating      8\n",
              "501                Karin Kania     GDR         Speed skating   Skating      8\n",
              "338            Galina Kulakova     URS  Cross Country Skiing    Skiing      8\n",
              "519               Kati Wilhelm     GER              Biathlon  Biathlon      7\n",
              "649           Manuela Di Centa     ITA  Cross Country Skiing    Skiing      7"
            ]
          },
          "metadata": {},
          "execution_count": 45
        }
      ]
    },
    {
      "cell_type": "code",
      "metadata": {
        "id": "0HUJOvQTdosj",
        "colab": {
          "base_uri": "https://localhost:8080/",
          "height": 421
        },
        "outputId": "a79f0906-51f8-44f9-da0d-892ceb985169"
      },
      "source": [
        "# Highest Medal (Gold) achieved by Female\n",
        "female_gold_medals = winter[winter['Gender'] == 'Women'].groupby(['Athlete','Medal'])[\"Sport\"].count().reset_index().sort_values(by='Sport',ascending=False)\n",
        "female_gold_medals = female_gold_medals.pivot('Athlete','Medal','Sport').fillna(0)\n",
        "female_g_ath=female_gold_medals.sort_values(by=\"Gold\",ascending=False)[:11]\n",
        "female_g_ath"
      ],
      "execution_count": 46,
      "outputs": [
        {
          "output_type": "execute_result",
          "data": {
            "text/html": [
              "<div>\n",
              "<style scoped>\n",
              "    .dataframe tbody tr th:only-of-type {\n",
              "        vertical-align: middle;\n",
              "    }\n",
              "\n",
              "    .dataframe tbody tr th {\n",
              "        vertical-align: top;\n",
              "    }\n",
              "\n",
              "    .dataframe thead th {\n",
              "        text-align: right;\n",
              "    }\n",
              "</style>\n",
              "<table border=\"1\" class=\"dataframe\">\n",
              "  <thead>\n",
              "    <tr style=\"text-align: right;\">\n",
              "      <th>Medal</th>\n",
              "      <th>Bronze</th>\n",
              "      <th>Gold</th>\n",
              "      <th>Silver</th>\n",
              "    </tr>\n",
              "    <tr>\n",
              "      <th>Athlete</th>\n",
              "      <th></th>\n",
              "      <th></th>\n",
              "      <th></th>\n",
              "    </tr>\n",
              "  </thead>\n",
              "  <tbody>\n",
              "    <tr>\n",
              "      <th>Marit Bjoergen</th>\n",
              "      <td>1.0</td>\n",
              "      <td>6.0</td>\n",
              "      <td>2.0</td>\n",
              "    </tr>\n",
              "    <tr>\n",
              "      <th>Lidiya Skoblikova</th>\n",
              "      <td>0.0</td>\n",
              "      <td>6.0</td>\n",
              "      <td>0.0</td>\n",
              "    </tr>\n",
              "    <tr>\n",
              "      <th>Ljubov Egorova</th>\n",
              "      <td>0.0</td>\n",
              "      <td>6.0</td>\n",
              "      <td>3.0</td>\n",
              "    </tr>\n",
              "    <tr>\n",
              "      <th>Claudia Pechstein</th>\n",
              "      <td>2.0</td>\n",
              "      <td>5.0</td>\n",
              "      <td>2.0</td>\n",
              "    </tr>\n",
              "    <tr>\n",
              "      <th>Larissa Lazutina</th>\n",
              "      <td>1.0</td>\n",
              "      <td>5.0</td>\n",
              "      <td>1.0</td>\n",
              "    </tr>\n",
              "    <tr>\n",
              "      <th>Bonnie Blair</th>\n",
              "      <td>1.0</td>\n",
              "      <td>5.0</td>\n",
              "      <td>0.0</td>\n",
              "    </tr>\n",
              "    <tr>\n",
              "      <th>Raisa Smetanina</th>\n",
              "      <td>1.0</td>\n",
              "      <td>4.0</td>\n",
              "      <td>5.0</td>\n",
              "    </tr>\n",
              "    <tr>\n",
              "      <th>Lee-Kyung Chun</th>\n",
              "      <td>1.0</td>\n",
              "      <td>4.0</td>\n",
              "      <td>0.0</td>\n",
              "    </tr>\n",
              "    <tr>\n",
              "      <th>Hayley Wickenheiser</th>\n",
              "      <td>0.0</td>\n",
              "      <td>4.0</td>\n",
              "      <td>1.0</td>\n",
              "    </tr>\n",
              "    <tr>\n",
              "      <th>Caroline Ouellette</th>\n",
              "      <td>0.0</td>\n",
              "      <td>4.0</td>\n",
              "      <td>0.0</td>\n",
              "    </tr>\n",
              "    <tr>\n",
              "      <th>Galina Kulakova</th>\n",
              "      <td>2.0</td>\n",
              "      <td>4.0</td>\n",
              "      <td>2.0</td>\n",
              "    </tr>\n",
              "  </tbody>\n",
              "</table>\n",
              "</div>"
            ],
            "text/plain": [
              "Medal                Bronze  Gold  Silver\n",
              "Athlete                                  \n",
              "Marit Bjoergen          1.0   6.0     2.0\n",
              "Lidiya Skoblikova       0.0   6.0     0.0\n",
              "Ljubov Egorova          0.0   6.0     3.0\n",
              "Claudia Pechstein       2.0   5.0     2.0\n",
              "Larissa Lazutina        1.0   5.0     1.0\n",
              "Bonnie Blair            1.0   5.0     0.0\n",
              "Raisa Smetanina         1.0   4.0     5.0\n",
              "Lee-Kyung Chun          1.0   4.0     0.0\n",
              "Hayley Wickenheiser     0.0   4.0     1.0\n",
              "Caroline Ouellette      0.0   4.0     0.0\n",
              "Galina Kulakova         2.0   4.0     2.0"
            ]
          },
          "metadata": {},
          "execution_count": 46
        }
      ]
    },
    {
      "cell_type": "code",
      "metadata": {
        "id": "rjdLJCkhdozV",
        "colab": {
          "base_uri": "https://localhost:8080/",
          "height": 421
        },
        "outputId": "2b3538c4-04bc-48b0-9c2c-a271dedcf156"
      },
      "source": [
        "# Highest Medal (Silver) achieved by Female\n",
        "female_gold_medals = winter[winter['Gender'] == 'Women'].groupby(['Athlete','Medal'])[\"Sport\"].count().reset_index().sort_values(by='Sport',ascending=False)\n",
        "female_gold_medals = female_gold_medals.pivot('Athlete','Medal','Sport').fillna(0)\n",
        "female_g_ath=female_gold_medals.sort_values(by=\"Silver\",ascending=False)[:11]\n",
        "female_g_ath"
      ],
      "execution_count": 47,
      "outputs": [
        {
          "output_type": "execute_result",
          "data": {
            "text/html": [
              "<div>\n",
              "<style scoped>\n",
              "    .dataframe tbody tr th:only-of-type {\n",
              "        vertical-align: middle;\n",
              "    }\n",
              "\n",
              "    .dataframe tbody tr th {\n",
              "        vertical-align: top;\n",
              "    }\n",
              "\n",
              "    .dataframe thead th {\n",
              "        text-align: right;\n",
              "    }\n",
              "</style>\n",
              "<table border=\"1\" class=\"dataframe\">\n",
              "  <thead>\n",
              "    <tr style=\"text-align: right;\">\n",
              "      <th>Medal</th>\n",
              "      <th>Bronze</th>\n",
              "      <th>Gold</th>\n",
              "      <th>Silver</th>\n",
              "    </tr>\n",
              "    <tr>\n",
              "      <th>Athlete</th>\n",
              "      <th></th>\n",
              "      <th></th>\n",
              "      <th></th>\n",
              "    </tr>\n",
              "  </thead>\n",
              "  <tbody>\n",
              "    <tr>\n",
              "      <th>Raisa Smetanina</th>\n",
              "      <td>1.0</td>\n",
              "      <td>4.0</td>\n",
              "      <td>5.0</td>\n",
              "    </tr>\n",
              "    <tr>\n",
              "      <th>Andrea Ehrig</th>\n",
              "      <td>1.0</td>\n",
              "      <td>1.0</td>\n",
              "      <td>5.0</td>\n",
              "    </tr>\n",
              "    <tr>\n",
              "      <th>Gunda Niemann-Stirnemann</th>\n",
              "      <td>1.0</td>\n",
              "      <td>3.0</td>\n",
              "      <td>4.0</td>\n",
              "    </tr>\n",
              "    <tr>\n",
              "      <th>Karin Kania</th>\n",
              "      <td>1.0</td>\n",
              "      <td>3.0</td>\n",
              "      <td>4.0</td>\n",
              "    </tr>\n",
              "    <tr>\n",
              "      <th>Katerina Neumannova</th>\n",
              "      <td>1.0</td>\n",
              "      <td>1.0</td>\n",
              "      <td>4.0</td>\n",
              "    </tr>\n",
              "    <tr>\n",
              "      <th>Uschi Disl</th>\n",
              "      <td>3.0</td>\n",
              "      <td>2.0</td>\n",
              "      <td>4.0</td>\n",
              "    </tr>\n",
              "    <tr>\n",
              "      <th>Yang Yang (S)</th>\n",
              "      <td>1.0</td>\n",
              "      <td>0.0</td>\n",
              "      <td>4.0</td>\n",
              "    </tr>\n",
              "    <tr>\n",
              "      <th>Hilkka Riihivuori</th>\n",
              "      <td>0.0</td>\n",
              "      <td>0.0</td>\n",
              "      <td>4.0</td>\n",
              "    </tr>\n",
              "    <tr>\n",
              "      <th>Kristina Groves</th>\n",
              "      <td>1.0</td>\n",
              "      <td>0.0</td>\n",
              "      <td>3.0</td>\n",
              "    </tr>\n",
              "    <tr>\n",
              "      <th>Leah Mueller</th>\n",
              "      <td>0.0</td>\n",
              "      <td>0.0</td>\n",
              "      <td>3.0</td>\n",
              "    </tr>\n",
              "    <tr>\n",
              "      <th>Charlotte Kalla</th>\n",
              "      <td>0.0</td>\n",
              "      <td>2.0</td>\n",
              "      <td>3.0</td>\n",
              "    </tr>\n",
              "  </tbody>\n",
              "</table>\n",
              "</div>"
            ],
            "text/plain": [
              "Medal                     Bronze  Gold  Silver\n",
              "Athlete                                       \n",
              "Raisa Smetanina              1.0   4.0     5.0\n",
              "Andrea Ehrig                 1.0   1.0     5.0\n",
              "Gunda Niemann-Stirnemann     1.0   3.0     4.0\n",
              "Karin Kania                  1.0   3.0     4.0\n",
              "Katerina Neumannova          1.0   1.0     4.0\n",
              "Uschi Disl                   3.0   2.0     4.0\n",
              "Yang Yang (S)                1.0   0.0     4.0\n",
              "Hilkka Riihivuori            0.0   0.0     4.0\n",
              "Kristina Groves              1.0   0.0     3.0\n",
              "Leah Mueller                 0.0   0.0     3.0\n",
              "Charlotte Kalla              0.0   2.0     3.0"
            ]
          },
          "metadata": {},
          "execution_count": 47
        }
      ]
    },
    {
      "cell_type": "code",
      "metadata": {
        "id": "R27tUSPzdo7d",
        "colab": {
          "base_uri": "https://localhost:8080/",
          "height": 421
        },
        "outputId": "ee9450b4-ea2e-46d3-feb2-ab8a43c75a95"
      },
      "source": [
        "# Highest Medal (Bronze) achieved by Female\n",
        "female_gold_medals = winter[winter['Gender'] == 'Women'].groupby(['Athlete','Medal'])[\"Sport\"].count().reset_index().sort_values(by='Sport',ascending=False)\n",
        "female_gold_medals = female_gold_medals.pivot('Athlete','Medal','Sport').fillna(0)\n",
        "female_g_ath=female_gold_medals.sort_values(by=\"Bronze\",ascending=False)[:11]\n",
        "female_g_ath"
      ],
      "execution_count": 48,
      "outputs": [
        {
          "output_type": "execute_result",
          "data": {
            "text/html": [
              "<div>\n",
              "<style scoped>\n",
              "    .dataframe tbody tr th:only-of-type {\n",
              "        vertical-align: middle;\n",
              "    }\n",
              "\n",
              "    .dataframe tbody tr th {\n",
              "        vertical-align: top;\n",
              "    }\n",
              "\n",
              "    .dataframe thead th {\n",
              "        text-align: right;\n",
              "    }\n",
              "</style>\n",
              "<table border=\"1\" class=\"dataframe\">\n",
              "  <thead>\n",
              "    <tr style=\"text-align: right;\">\n",
              "      <th>Medal</th>\n",
              "      <th>Bronze</th>\n",
              "      <th>Gold</th>\n",
              "      <th>Silver</th>\n",
              "    </tr>\n",
              "    <tr>\n",
              "      <th>Athlete</th>\n",
              "      <th></th>\n",
              "      <th></th>\n",
              "      <th></th>\n",
              "    </tr>\n",
              "  </thead>\n",
              "  <tbody>\n",
              "    <tr>\n",
              "      <th>Stefania Belmondo</th>\n",
              "      <td>5.0</td>\n",
              "      <td>2.0</td>\n",
              "      <td>3.0</td>\n",
              "    </tr>\n",
              "    <tr>\n",
              "      <th>Arianna Fontana</th>\n",
              "      <td>4.0</td>\n",
              "      <td>0.0</td>\n",
              "      <td>1.0</td>\n",
              "    </tr>\n",
              "    <tr>\n",
              "      <th>Anja Paerson</th>\n",
              "      <td>4.0</td>\n",
              "      <td>1.0</td>\n",
              "      <td>1.0</td>\n",
              "    </tr>\n",
              "    <tr>\n",
              "      <th>Gabriella Paruzzi</th>\n",
              "      <td>4.0</td>\n",
              "      <td>1.0</td>\n",
              "      <td>0.0</td>\n",
              "    </tr>\n",
              "    <tr>\n",
              "      <th>Marja-Liisa Kirvesniemi</th>\n",
              "      <td>4.0</td>\n",
              "      <td>3.0</td>\n",
              "      <td>0.0</td>\n",
              "    </tr>\n",
              "    <tr>\n",
              "      <th>Elena Vaelbe</th>\n",
              "      <td>4.0</td>\n",
              "      <td>3.0</td>\n",
              "      <td>0.0</td>\n",
              "    </tr>\n",
              "    <tr>\n",
              "      <th>Uschi Disl</th>\n",
              "      <td>3.0</td>\n",
              "      <td>2.0</td>\n",
              "      <td>4.0</td>\n",
              "    </tr>\n",
              "    <tr>\n",
              "      <th>Gabi Zange</th>\n",
              "      <td>3.0</td>\n",
              "      <td>0.0</td>\n",
              "      <td>0.0</td>\n",
              "    </tr>\n",
              "    <tr>\n",
              "      <th>Alevtina Kolchina</th>\n",
              "      <td>3.0</td>\n",
              "      <td>1.0</td>\n",
              "      <td>1.0</td>\n",
              "    </tr>\n",
              "    <tr>\n",
              "      <th>Seung-Hi Park</th>\n",
              "      <td>3.0</td>\n",
              "      <td>2.0</td>\n",
              "      <td>0.0</td>\n",
              "    </tr>\n",
              "    <tr>\n",
              "      <th>Albina Akhatova</th>\n",
              "      <td>3.0</td>\n",
              "      <td>1.0</td>\n",
              "      <td>1.0</td>\n",
              "    </tr>\n",
              "  </tbody>\n",
              "</table>\n",
              "</div>"
            ],
            "text/plain": [
              "Medal                    Bronze  Gold  Silver\n",
              "Athlete                                      \n",
              "Stefania Belmondo           5.0   2.0     3.0\n",
              "Arianna Fontana             4.0   0.0     1.0\n",
              "Anja Paerson                4.0   1.0     1.0\n",
              "Gabriella Paruzzi           4.0   1.0     0.0\n",
              "Marja-Liisa Kirvesniemi     4.0   3.0     0.0\n",
              "Elena Vaelbe                4.0   3.0     0.0\n",
              "Uschi Disl                  3.0   2.0     4.0\n",
              "Gabi Zange                  3.0   0.0     0.0\n",
              "Alevtina Kolchina           3.0   1.0     1.0\n",
              "Seung-Hi Park               3.0   2.0     0.0\n",
              "Albina Akhatova             3.0   1.0     1.0"
            ]
          },
          "metadata": {},
          "execution_count": 48
        }
      ]
    },
    {
      "cell_type": "code",
      "metadata": {
        "id": "aO_e-aYCdpAm",
        "colab": {
          "base_uri": "https://localhost:8080/",
          "height": 624
        },
        "outputId": "06076653-d15e-4cc0-9bf6-3ee81bf5579e"
      },
      "source": [
        "# medal by country\n",
        "medals = summer.groupby(['Country','Medal'])[\"Sport\"].count().reset_index().sort_values(by='Sport',ascending=False)\n",
        "medals = medals.pivot('Country','Medal','Sport').fillna(0)\n",
        "\n",
        "top_medal_country=medals.sort_values(by=\"Gold\",ascending=False)[:11]\n",
        "top_medal_country.plot.barh(width=0.8,color=['#CD7F32','#FFDF00','#D3D3D3'])\n",
        "fig=plt.gcf()\n",
        "fig.set_size_inches(10,10)\n",
        "plt.title(\"Medals Distribution of Top Countries for Summer Olympics\")"
      ],
      "execution_count": 49,
      "outputs": [
        {
          "output_type": "execute_result",
          "data": {
            "text/plain": [
              "Text(0.5, 1.0, 'Medals Distribution of Top Countries for Summer Olympics')"
            ]
          },
          "metadata": {},
          "execution_count": 49
        },
        {
          "output_type": "display_data",
          "data": {
            "image/png": "[encoded data removed]",
            "text/plain": [
              "<Figure size 720x720 with 1 Axes>"
            ]
          },
          "metadata": {}
        }
      ]
    },
    {
      "cell_type": "markdown",
      "metadata": {
        "id": "VIRaHThtPmu-"
      },
      "source": [
        "### From 1952 there have been an increase in female paricipation in winter olympics"
      ]
    },
    {
      "cell_type": "code",
      "metadata": {
        "id": "imfD6sTxNGu_"
      },
      "source": [
        "\n",
        "\n",
        "# female\n",
        "female_participants = winter[(winter[\"Gender\"] == \"Women\")][[\"Gender\", \"Year\"]]\n",
        "female_participants = female_participants.groupby('Year').count().reset_index()\n",
        "\n",
        "#male\n",
        "male_participants = winter[(winter[\"Gender\"] == \"Men\")][[\"Gender\", \"Year\"]]\n",
        "male_participants = male_participants.groupby('Year').count().reset_index()"
      ],
      "execution_count": 50,
      "outputs": []
    },
    {
      "cell_type": "code",
      "metadata": {
        "colab": {
          "base_uri": "https://localhost:8080/",
          "height": 421
        },
        "id": "WOjKMx78NG2Y",
        "outputId": "d6961c77-e371-4b93-c873-98c7927dc5b8"
      },
      "source": [
        "sns.set_style('darkgrid')\n",
        "# matplotlib.rcParams['figure.figsize'] = (12, 10)\n",
        "plt.figure(figsize=(10,6))\n",
        "sns.lineplot(data=female_participants, x='Year', y='Gender',  palette = 'blue', label = 'Female')\n",
        "sns.lineplot(data=male_participants, x='Year', y='Gender',  palette = 'orange', label = 'Male')\n",
        "\n",
        "plt.title(\"Female & Male Participation over the Years (Winter Olympic)\")\n"
      ],
      "execution_count": 52,
      "outputs": [
        {
          "output_type": "execute_result",
          "data": {
            "text/plain": [
              "Text(0.5, 1.0, 'Female & Male Participation over the Years (Winter Olympic)')"
            ]
          },
          "metadata": {},
          "execution_count": 52
        },
        {
          "output_type": "display_data",
          "data": {
            "image/png": "[encoded data removed]",
            "text/plain": [
              "<Figure size 720x432 with 1 Axes>"
            ]
          },
          "metadata": {}
        }
      ]
    },
    {
      "cell_type": "code",
      "metadata": {
        "id": "DIvAowhFNHFK"
      },
      "source": [
        ""
      ],
      "execution_count": null,
      "outputs": []
    }
  ]
}